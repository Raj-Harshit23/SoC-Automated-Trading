{
 "cells": [
  {
   "cell_type": "code",
   "execution_count": 10,
   "metadata": {},
   "outputs": [],
   "source": [
    "import yfinance as yf\n",
    "import pandas as pd\n",
    "import os\n",
    "import pandas_ta as ta\n",
    "import numpy as np\n",
    "from sklearn.preprocessing import StandardScaler"
   ]
  },
  {
   "cell_type": "markdown",
   "metadata": {},
   "source": [
    "The strategy here is identical to the one in final.py ."
   ]
  },
  {
   "cell_type": "code",
   "execution_count": 4,
   "metadata": {},
   "outputs": [],
   "source": [
    "ticker=\"^NSEI\""
   ]
  },
  {
   "cell_type": "code",
   "execution_count": 9,
   "metadata": {},
   "outputs": [],
   "source": [
    "def data(ticker):                           \n",
    "  df = yf.Ticker(ticker)\n",
    "  df = df.history(period=\"max\")\n",
    "  df.index = pd.to_datetime(df.index)\n",
    "  del df[\"Dividends\"]\n",
    "  del df[\"Stock Splits\"]\n",
    "  df = df.loc[\"2014-01-01\":].copy()\n",
    "  df[\"Target\"] = (df[\"Close\"] > df[\"Open\"]).astype(int).shift(-1)   ##Binary target...tomorrow increase or decrease direction as an output to be decided by todays statistics\n",
    "  # frequency = df['Target'].value_counts()\n",
    "  # print(frequency)\n",
    "  df.dropna(inplace=True)\n",
    "  return df"
   ]
  },
  {
   "cell_type": "code",
   "execution_count": 6,
   "metadata": {},
   "outputs": [],
   "source": [
    "# Calculating technical indicators using pandas_ta\n",
    "def add_features(df):\n",
    "    df['EMA_2'] = ta.ema(df['Close'], length=2)\n",
    "    df['EMA_5'] = ta.ema(df['Close'], length=5)\n",
    "    df['EMA_20'] = ta.ema(df['Close'], length=20)\n",
    "    df['EMA_100'] = ta.ema(df['Close'], length=100)\n",
    "\n",
    "    df['RSI_14'] = ta.rsi(df['Close'], length=14)\n",
    "    macd = ta.macd(df['Close'])\n",
    "    df['MACD_signal'] = macd['MACDs_12_26_9']\n",
    "    df['ATR'] = ta.atr(df['High'], df['Low'], df['Close'], length=14)\n",
    "    df['OBV'] = ta.obv(df['Close'], df['Volume'])\n",
    "\n",
    "    # Lagged features (kind of last few rows to predict the next row)\n",
    "    for lag in range(1, 10):  \n",
    "    # lag-=1\n",
    "        df[f'Close_t-{lag}'] = df['Close'].shift(lag)\n",
    "        df[f'Open_t-{lag}'] = df['Open'].shift(lag)\n",
    "        df[f'High_t-{lag}'] = df['High'].shift(lag)\n",
    "        df[f'Low_t-{lag}'] = df['Low'].shift(lag)\n",
    "        df[f'Volume_t-{lag}'] = df['Volume'].shift(lag)\n",
    "\n",
    "    df = df.dropna()\n",
    "    return df"
   ]
  },
  {
   "cell_type": "code",
   "execution_count": 7,
   "metadata": {},
   "outputs": [
    {
     "ename": "NameError",
     "evalue": "name 'yf' is not defined",
     "output_type": "error",
     "traceback": [
      "\u001b[1;31m---------------------------------------------------------------------------\u001b[0m",
      "\u001b[1;31mNameError\u001b[0m                                 Traceback (most recent call last)",
      "Cell \u001b[1;32mIn[7], line 1\u001b[0m\n\u001b[1;32m----> 1\u001b[0m df\u001b[38;5;241m=\u001b[39m\u001b[43mdata\u001b[49m\u001b[43m(\u001b[49m\u001b[43mticker\u001b[49m\u001b[43m)\u001b[49m\n\u001b[0;32m      2\u001b[0m df_added\u001b[38;5;241m=\u001b[39madd_features(df)\n",
      "Cell \u001b[1;32mIn[5], line 2\u001b[0m, in \u001b[0;36mdata\u001b[1;34m(ticker)\u001b[0m\n\u001b[0;32m      1\u001b[0m \u001b[38;5;28;01mdef\u001b[39;00m \u001b[38;5;21mdata\u001b[39m(ticker):                           \n\u001b[1;32m----> 2\u001b[0m   df \u001b[38;5;241m=\u001b[39m \u001b[43myf\u001b[49m\u001b[38;5;241m.\u001b[39mTicker(ticker)\n\u001b[0;32m      3\u001b[0m   df \u001b[38;5;241m=\u001b[39m df\u001b[38;5;241m.\u001b[39mhistory(period\u001b[38;5;241m=\u001b[39m\u001b[38;5;124m\"\u001b[39m\u001b[38;5;124mmax\u001b[39m\u001b[38;5;124m\"\u001b[39m)\n\u001b[0;32m      4\u001b[0m   df\u001b[38;5;241m.\u001b[39mindex \u001b[38;5;241m=\u001b[39m pd\u001b[38;5;241m.\u001b[39mto_datetime(df\u001b[38;5;241m.\u001b[39mindex)\n",
      "\u001b[1;31mNameError\u001b[0m: name 'yf' is not defined"
     ]
    }
   ],
   "source": [
    "df=data(ticker)\n",
    "df_added=add_features(df)"
   ]
  },
  {
   "cell_type": "code",
   "execution_count": null,
   "metadata": {},
   "outputs": [],
   "source": [
    "# Define lagged features and technical indicators\n",
    "lagged_features = [f'Close_t-{i}' for i in range(1, 10)] + [f'Open_t-{i}' for i in range(1, 10)] + [f'Volume_t-{i}' for i in range(1, 10)]\n",
    "featuresq = ['EMA_2', 'EMA_5','EMA_20','EMA_100', 'RSI_14', 'MACD_signal', 'ATR', 'OBV', 'Close', 'Volume']\n",
    "\n",
    "# Combine all features\n",
    "all_features = featuresq + lagged_features\n",
    "# Feature normalization\n",
    "scaler = StandardScaler()\n",
    "df[all_features] = scaler.fit_transform(df[all_features])\n",
    "\n",
    "# Preparing the features and target\n",
    "X = df_added[all_features]\n",
    "y = df_added['Target']  "
   ]
  },
  {
   "cell_type": "markdown",
   "metadata": {},
   "source": [
    "The strategy is simple. The model will be trained for the last 350 days of each day, and predict the direction of price for that day. It will buy/sell accordingly at the opening price of the day and clear the position at the end of each day. It will always use atmost a certain percentage of cash to place the orders. An order log will be created and each order will be displayed. If cash is not enough to place an order, or clear a position, emergency account balance will be used accordingly and the trading process may get terminated."
   ]
  },
  {
   "cell_type": "code",
   "execution_count": null,
   "metadata": {},
   "outputs": [],
   "source": []
  },
  {
   "cell_type": "code",
   "execution_count": null,
   "metadata": {},
   "outputs": [],
   "source": [
    "import os\n",
    "\n",
    "portfolio = 10000  # Starting with Rs. 10,000\n",
    "def simulate_trading(df, model, all_features, transaction_cost=0.01):\n",
    "    cash = portfolio\n",
    "    position = 0\n",
    "    buy_price = 0\n",
    "    predictions = []\n",
    "    \n",
    "    log_file = 'trading_log.txt'\n",
    "    with open(log_file, 'w') as file:\n",
    "        file.write('Date,Action,Price,Amount,Portfolio Value\\n')\n",
    "        \n",
    "        for i in range(355, len(df)):  # Start from day 355 to ensure sufficient data\n",
    "            features = df.iloc[i][all_features].values.reshape(1, -1)\n",
    "            prediction = model.predict(features)[0]\n",
    "            close_price = df['Close'].iloc[i]\n",
    "            predictions.append(prediction)\n",
    "            date = df.index[i]\n",
    "            \n",
    "            if prediction == 1:  # Buy signal\n",
    "                if position == 0:  # No position open\n",
    "                    # Buy\n",
    "                    amount_to_buy = cash / close_price\n",
    "                    cash -= amount_to_buy * close_price * (1 + transaction_cost)\n",
    "                    position = amount_to_buy\n",
    "                    buy_price = close_price\n",
    "                    action = 'BUY'\n",
    "                else:\n",
    "                    action = 'HOLD'\n",
    "            else:  # Sell signal\n",
    "                if position > 0:  # Position open\n",
    "                    # Sell\n",
    "                    cash += position * close_price * (1 - transaction_cost)\n",
    "                    position = 0\n",
    "                    action = 'SELL'\n",
    "                else:\n",
    "                    action = 'HOLD'\n",
    "            \n",
    "            # Calculate current portfolio value\n",
    "            portfolio_value = cash + position * close_price\n",
    "            \n",
    "            # Print order details and portfolio value\n",
    "            print(f\"Date: {date}, Action: {action}, Price: {close_price:.2f}, Amount: {position:.2f}, Portfolio Value: ${portfolio_value:.2f}\")\n",
    "            \n",
    "            # Log the order details\n",
    "            with open(log_file, 'a') as file:\n",
    "                file.write(f'{date},{action},{close_price:.2f},{position:.2f},{portfolio_value:.2f}\\n')\n",
    "    \n",
    "    # Closing any remaining position\n",
    "    if position > 0:\n",
    "        cash += position * df['Close'].iloc[-1] * (1 - transaction_cost)\n",
    "    \n",
    "    profit = cash - portfolio\n",
    "    df['Prediction'] = [np.nan] * 350 + predictions\n",
    "    return df, profit\n",
    "\n",
    "# Simulate trading\n",
    "df_with_predictions, profit = simulate_trading(df, model3, all_features)\n",
    "print(f\"Total profit over the year: ${profit:.2f}\")\n"
   ]
  }
 ],
 "metadata": {
  "kernelspec": {
   "display_name": "venv",
   "language": "python",
   "name": "python3"
  },
  "language_info": {
   "codemirror_mode": {
    "name": "ipython",
    "version": 3
   },
   "file_extension": ".py",
   "mimetype": "text/x-python",
   "name": "python",
   "nbconvert_exporter": "python",
   "pygments_lexer": "ipython3",
   "version": "3.12.2"
  }
 },
 "nbformat": 4,
 "nbformat_minor": 2
}

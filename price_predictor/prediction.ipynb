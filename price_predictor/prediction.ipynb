{
  "cells": [
    {
      "cell_type": "markdown",
      "id": "e612a827",
      "metadata": {
        "id": "e612a827"
      },
      "source": [
        "**PREDICTING DIRECTION OF NEXT DAY STOCK PRICE MOVEMENT USING RANDOM FOREST**\n"
      ]
    },
    {
      "cell_type": "code",
      "execution_count": 2,
      "id": "bed8fdcc",
      "metadata": {
        "id": "bed8fdcc",
        "outputId": "23b1766e-df67-4981-8d8f-ae25df743581",
        "colab": {
          "base_uri": "https://localhost:8080/"
        }
      },
      "outputs": [
        {
          "output_type": "stream",
          "name": "stdout",
          "text": [
            "Requirement already satisfied: scikit-learn in /usr/local/lib/python3.10/dist-packages (1.2.2)\n",
            "Requirement already satisfied: numpy>=1.17.3 in /usr/local/lib/python3.10/dist-packages (from scikit-learn) (1.25.2)\n",
            "Requirement already satisfied: scipy>=1.3.2 in /usr/local/lib/python3.10/dist-packages (from scikit-learn) (1.11.4)\n",
            "Requirement already satisfied: joblib>=1.1.1 in /usr/local/lib/python3.10/dist-packages (from scikit-learn) (1.4.2)\n",
            "Requirement already satisfied: threadpoolctl>=2.0.0 in /usr/local/lib/python3.10/dist-packages (from scikit-learn) (3.5.0)\n"
          ]
        }
      ],
      "source": [
        "%pip install scikit-learn\n"
      ]
    },
    {
      "cell_type": "code",
      "execution_count": 3,
      "metadata": {
        "colab": {
          "base_uri": "https://localhost:8080/"
        },
        "execution": {
          "iopub.execute_input": "2024-07-18T12:27:14.260293Z",
          "iopub.status.busy": "2024-07-18T12:27:14.259121Z",
          "iopub.status.idle": "2024-07-18T12:27:34.308675Z",
          "shell.execute_reply": "2024-07-18T12:27:34.307036Z",
          "shell.execute_reply.started": "2024-07-18T12:27:14.260253Z"
        },
        "id": "mI22bLR3x8qn",
        "outputId": "d47ae7f8-fede-4378-a483-11d0784f8689",
        "trusted": true
      },
      "outputs": [
        {
          "output_type": "stream",
          "name": "stdout",
          "text": [
            "Collecting pandas_ta\n",
            "  Downloading pandas_ta-0.3.14b.tar.gz (115 kB)\n",
            "\u001b[?25l     \u001b[90m━━━━━━━━━━━━━━━━━━━━━━━━━━━━━━━━━━━━━━━━\u001b[0m \u001b[32m0.0/115.1 kB\u001b[0m \u001b[31m?\u001b[0m eta \u001b[36m-:--:--\u001b[0m\r\u001b[2K     \u001b[90m━━━━━━━━━━━━━━━━━━━━━━━━━━━━━━━━━━━━━━━━\u001b[0m \u001b[32m115.1/115.1 kB\u001b[0m \u001b[31m3.7 MB/s\u001b[0m eta \u001b[36m0:00:00\u001b[0m\n",
            "\u001b[?25h  Preparing metadata (setup.py) ... \u001b[?25l\u001b[?25hdone\n",
            "Requirement already satisfied: pandas in /usr/local/lib/python3.10/dist-packages (from pandas_ta) (2.0.3)\n",
            "Requirement already satisfied: python-dateutil>=2.8.2 in /usr/local/lib/python3.10/dist-packages (from pandas->pandas_ta) (2.8.2)\n",
            "Requirement already satisfied: pytz>=2020.1 in /usr/local/lib/python3.10/dist-packages (from pandas->pandas_ta) (2023.4)\n",
            "Requirement already satisfied: tzdata>=2022.1 in /usr/local/lib/python3.10/dist-packages (from pandas->pandas_ta) (2024.1)\n",
            "Requirement already satisfied: numpy>=1.21.0 in /usr/local/lib/python3.10/dist-packages (from pandas->pandas_ta) (1.25.2)\n",
            "Requirement already satisfied: six>=1.5 in /usr/local/lib/python3.10/dist-packages (from python-dateutil>=2.8.2->pandas->pandas_ta) (1.16.0)\n",
            "Building wheels for collected packages: pandas_ta\n",
            "  Building wheel for pandas_ta (setup.py) ... \u001b[?25l\u001b[?25hdone\n",
            "  Created wheel for pandas_ta: filename=pandas_ta-0.3.14b0-py3-none-any.whl size=218910 sha256=3ee3172b5ac51469e53e4a6e02411812b79c8c7092e9fa481bd5ac6c1201270b\n",
            "  Stored in directory: /root/.cache/pip/wheels/69/00/ac/f7fa862c34b0e2ef320175100c233377b4c558944f12474cf0\n",
            "Successfully built pandas_ta\n",
            "Installing collected packages: pandas_ta\n",
            "Successfully installed pandas_ta-0.3.14b0\n"
          ]
        }
      ],
      "source": [
        "%pip install pandas_ta"
      ],
      "id": "mI22bLR3x8qn"
    },
    {
      "cell_type": "code",
      "execution_count": 4,
      "metadata": {
        "execution": {
          "iopub.execute_input": "2024-07-18T12:27:34.312765Z",
          "iopub.status.busy": "2024-07-18T12:27:34.312206Z",
          "iopub.status.idle": "2024-07-18T12:28:17.261107Z",
          "shell.execute_reply": "2024-07-18T12:28:17.259629Z",
          "shell.execute_reply.started": "2024-07-18T12:27:34.312709Z"
        },
        "trusted": true,
        "id": "L9Mg9CRX8CAw",
        "outputId": "fe6f9f87-e54b-40af-8cf6-1a1f5b9f88f4",
        "colab": {
          "base_uri": "https://localhost:8080/"
        }
      },
      "outputs": [
        {
          "output_type": "stream",
          "name": "stdout",
          "text": [
            "Requirement already satisfied: yfinance in /usr/local/lib/python3.10/dist-packages (0.2.41)\n",
            "Requirement already satisfied: pandas>=1.3.0 in /usr/local/lib/python3.10/dist-packages (from yfinance) (2.0.3)\n",
            "Requirement already satisfied: numpy>=1.16.5 in /usr/local/lib/python3.10/dist-packages (from yfinance) (1.25.2)\n",
            "Requirement already satisfied: requests>=2.31 in /usr/local/lib/python3.10/dist-packages (from yfinance) (2.31.0)\n",
            "Requirement already satisfied: multitasking>=0.0.7 in /usr/local/lib/python3.10/dist-packages (from yfinance) (0.0.11)\n",
            "Requirement already satisfied: lxml>=4.9.1 in /usr/local/lib/python3.10/dist-packages (from yfinance) (4.9.4)\n",
            "Requirement already satisfied: platformdirs>=2.0.0 in /usr/local/lib/python3.10/dist-packages (from yfinance) (4.2.2)\n",
            "Requirement already satisfied: pytz>=2022.5 in /usr/local/lib/python3.10/dist-packages (from yfinance) (2023.4)\n",
            "Requirement already satisfied: frozendict>=2.3.4 in /usr/local/lib/python3.10/dist-packages (from yfinance) (2.4.4)\n",
            "Requirement already satisfied: peewee>=3.16.2 in /usr/local/lib/python3.10/dist-packages (from yfinance) (3.17.6)\n",
            "Requirement already satisfied: beautifulsoup4>=4.11.1 in /usr/local/lib/python3.10/dist-packages (from yfinance) (4.12.3)\n",
            "Requirement already satisfied: html5lib>=1.1 in /usr/local/lib/python3.10/dist-packages (from yfinance) (1.1)\n",
            "Requirement already satisfied: soupsieve>1.2 in /usr/local/lib/python3.10/dist-packages (from beautifulsoup4>=4.11.1->yfinance) (2.5)\n",
            "Requirement already satisfied: six>=1.9 in /usr/local/lib/python3.10/dist-packages (from html5lib>=1.1->yfinance) (1.16.0)\n",
            "Requirement already satisfied: webencodings in /usr/local/lib/python3.10/dist-packages (from html5lib>=1.1->yfinance) (0.5.1)\n",
            "Requirement already satisfied: python-dateutil>=2.8.2 in /usr/local/lib/python3.10/dist-packages (from pandas>=1.3.0->yfinance) (2.8.2)\n",
            "Requirement already satisfied: tzdata>=2022.1 in /usr/local/lib/python3.10/dist-packages (from pandas>=1.3.0->yfinance) (2024.1)\n",
            "Requirement already satisfied: charset-normalizer<4,>=2 in /usr/local/lib/python3.10/dist-packages (from requests>=2.31->yfinance) (3.3.2)\n",
            "Requirement already satisfied: idna<4,>=2.5 in /usr/local/lib/python3.10/dist-packages (from requests>=2.31->yfinance) (3.7)\n",
            "Requirement already satisfied: urllib3<3,>=1.21.1 in /usr/local/lib/python3.10/dist-packages (from requests>=2.31->yfinance) (2.0.7)\n",
            "Requirement already satisfied: certifi>=2017.4.17 in /usr/local/lib/python3.10/dist-packages (from requests>=2.31->yfinance) (2024.7.4)\n"
          ]
        }
      ],
      "source": [
        "%pip install yfinance"
      ],
      "id": "L9Mg9CRX8CAw"
    },
    {
      "cell_type": "code",
      "execution_count": 5,
      "metadata": {
        "execution": {
          "iopub.execute_input": "2024-07-18T12:28:17.263458Z",
          "iopub.status.busy": "2024-07-18T12:28:17.263024Z",
          "iopub.status.idle": "2024-07-18T12:28:18.508459Z",
          "shell.execute_reply": "2024-07-18T12:28:18.507178Z",
          "shell.execute_reply.started": "2024-07-18T12:28:17.263421Z"
        },
        "id": "f53fcbbf-a62d-4aa2-be7b-9aa4e17a5e48",
        "trusted": true
      },
      "outputs": [],
      "source": [
        "import yfinance as yf\n",
        "import pandas as pd\n",
        "import os\n",
        "import pandas_ta as ta\n",
        "import numpy as np"
      ],
      "id": "f53fcbbf-a62d-4aa2-be7b-9aa4e17a5e48"
    },
    {
      "cell_type": "code",
      "execution_count": 6,
      "metadata": {
        "execution": {
          "iopub.execute_input": "2024-07-18T12:28:18.512884Z",
          "iopub.status.busy": "2024-07-18T12:28:18.512197Z",
          "iopub.status.idle": "2024-07-18T12:28:18.521598Z",
          "shell.execute_reply": "2024-07-18T12:28:18.520251Z",
          "shell.execute_reply.started": "2024-07-18T12:28:18.512840Z"
        },
        "id": "0c4d2b51-1187-44c7-a281-da84d0381dd5",
        "trusted": true
      },
      "outputs": [],
      "source": [
        "def data(ticker):\n",
        "  df = yf.Ticker(ticker)\n",
        "  df = df.history(period=\"max\")\n",
        "  df.index = pd.to_datetime(df.index)\n",
        "  del df[\"Dividends\"]\n",
        "  del df[\"Stock Splits\"]\n",
        "  df = df.loc[\"2014-01-01\":].copy()\n",
        "  df[\"Target\"] = (df[\"Close\"] > df[\"Open\"]).astype(int).shift(-1)   ##Binary target...tomorrow increase or decrease direction as an output to be decided by todays statistics\n",
        "  # frequency = df['Target'].value_counts()\n",
        "  # print(frequency)\n",
        "  df.dropna(inplace=True)\n",
        "  return df"
      ],
      "id": "0c4d2b51-1187-44c7-a281-da84d0381dd5"
    },
    {
      "cell_type": "code",
      "execution_count": 7,
      "metadata": {
        "execution": {
          "iopub.execute_input": "2024-07-18T12:28:18.523897Z",
          "iopub.status.busy": "2024-07-18T12:28:18.523500Z",
          "iopub.status.idle": "2024-07-18T12:28:19.304311Z",
          "shell.execute_reply": "2024-07-18T12:28:19.302953Z",
          "shell.execute_reply.started": "2024-07-18T12:28:18.523866Z"
        },
        "id": "f605b43c-8db9-43ae-b2d4-29fc6048b8aa",
        "trusted": true
      },
      "outputs": [],
      "source": [
        "nifty=data(\"^NSEI\")"
      ],
      "id": "f605b43c-8db9-43ae-b2d4-29fc6048b8aa"
    },
    {
      "cell_type": "code",
      "execution_count": 8,
      "metadata": {
        "colab": {
          "base_uri": "https://localhost:8080/",
          "height": 454
        },
        "execution": {
          "iopub.execute_input": "2024-07-18T12:28:19.306112Z",
          "iopub.status.busy": "2024-07-18T12:28:19.305673Z",
          "iopub.status.idle": "2024-07-18T12:28:19.332722Z",
          "shell.execute_reply": "2024-07-18T12:28:19.331210Z",
          "shell.execute_reply.started": "2024-07-18T12:28:19.306072Z"
        },
        "id": "fbb162ce-7d18-4c14-b349-9014c0d6db42",
        "outputId": "c8557b06-add4-458f-fa3c-fd358464bc00",
        "trusted": true
      },
      "outputs": [
        {
          "output_type": "execute_result",
          "data": {
            "text/plain": [
              "                                   Open          High           Low  \\\n",
              "Date                                                                  \n",
              "2014-01-02 00:00:00+05:30   6301.250000   6358.299805   6211.299805   \n",
              "2014-01-03 00:00:00+05:30   6194.549805   6221.700195   6171.250000   \n",
              "2014-01-06 00:00:00+05:30   6220.850098   6224.700195   6170.250000   \n",
              "2014-01-07 00:00:00+05:30   6203.899902   6221.500000   6144.750000   \n",
              "2014-01-08 00:00:00+05:30   6178.049805   6192.100098   6160.350098   \n",
              "...                                 ...           ...           ...   \n",
              "2024-07-18 00:00:00+05:30  24543.800781  24837.750000  24504.449219   \n",
              "2024-07-19 00:00:00+05:30  24853.800781  24854.800781  24508.150391   \n",
              "2024-07-22 00:00:00+05:30  24445.750000  24595.199219  24362.300781   \n",
              "2024-07-23 00:00:00+05:30  24568.900391  24582.550781  24074.199219   \n",
              "2024-07-24 00:00:00+05:30  24444.949219  24504.250000  24307.250000   \n",
              "\n",
              "                                  Close  Volume  Target  \n",
              "Date                                                     \n",
              "2014-01-02 00:00:00+05:30   6221.149902  158100     1.0  \n",
              "2014-01-03 00:00:00+05:30   6211.149902  139000     0.0  \n",
              "2014-01-06 00:00:00+05:30   6191.450195  118300     0.0  \n",
              "2014-01-07 00:00:00+05:30   6162.250000  138600     0.0  \n",
              "2014-01-08 00:00:00+05:30   6174.600098  146900     0.0  \n",
              "...                                 ...     ...     ...  \n",
              "2024-07-18 00:00:00+05:30  24800.849609  350900     0.0  \n",
              "2024-07-19 00:00:00+05:30  24530.900391  343800     1.0  \n",
              "2024-07-22 00:00:00+05:30  24509.250000  324200     0.0  \n",
              "2024-07-23 00:00:00+05:30  24479.050781  436400     0.0  \n",
              "2024-07-24 00:00:00+05:30  24413.500000  366600     1.0  \n",
              "\n",
              "[2590 rows x 6 columns]"
            ],
            "text/html": [
              "\n",
              "  <div id=\"df-8a6cca69-f402-4ebf-a6c1-069670178773\" class=\"colab-df-container\">\n",
              "    <div>\n",
              "<style scoped>\n",
              "    .dataframe tbody tr th:only-of-type {\n",
              "        vertical-align: middle;\n",
              "    }\n",
              "\n",
              "    .dataframe tbody tr th {\n",
              "        vertical-align: top;\n",
              "    }\n",
              "\n",
              "    .dataframe thead th {\n",
              "        text-align: right;\n",
              "    }\n",
              "</style>\n",
              "<table border=\"1\" class=\"dataframe\">\n",
              "  <thead>\n",
              "    <tr style=\"text-align: right;\">\n",
              "      <th></th>\n",
              "      <th>Open</th>\n",
              "      <th>High</th>\n",
              "      <th>Low</th>\n",
              "      <th>Close</th>\n",
              "      <th>Volume</th>\n",
              "      <th>Target</th>\n",
              "    </tr>\n",
              "    <tr>\n",
              "      <th>Date</th>\n",
              "      <th></th>\n",
              "      <th></th>\n",
              "      <th></th>\n",
              "      <th></th>\n",
              "      <th></th>\n",
              "      <th></th>\n",
              "    </tr>\n",
              "  </thead>\n",
              "  <tbody>\n",
              "    <tr>\n",
              "      <th>2014-01-02 00:00:00+05:30</th>\n",
              "      <td>6301.250000</td>\n",
              "      <td>6358.299805</td>\n",
              "      <td>6211.299805</td>\n",
              "      <td>6221.149902</td>\n",
              "      <td>158100</td>\n",
              "      <td>1.0</td>\n",
              "    </tr>\n",
              "    <tr>\n",
              "      <th>2014-01-03 00:00:00+05:30</th>\n",
              "      <td>6194.549805</td>\n",
              "      <td>6221.700195</td>\n",
              "      <td>6171.250000</td>\n",
              "      <td>6211.149902</td>\n",
              "      <td>139000</td>\n",
              "      <td>0.0</td>\n",
              "    </tr>\n",
              "    <tr>\n",
              "      <th>2014-01-06 00:00:00+05:30</th>\n",
              "      <td>6220.850098</td>\n",
              "      <td>6224.700195</td>\n",
              "      <td>6170.250000</td>\n",
              "      <td>6191.450195</td>\n",
              "      <td>118300</td>\n",
              "      <td>0.0</td>\n",
              "    </tr>\n",
              "    <tr>\n",
              "      <th>2014-01-07 00:00:00+05:30</th>\n",
              "      <td>6203.899902</td>\n",
              "      <td>6221.500000</td>\n",
              "      <td>6144.750000</td>\n",
              "      <td>6162.250000</td>\n",
              "      <td>138600</td>\n",
              "      <td>0.0</td>\n",
              "    </tr>\n",
              "    <tr>\n",
              "      <th>2014-01-08 00:00:00+05:30</th>\n",
              "      <td>6178.049805</td>\n",
              "      <td>6192.100098</td>\n",
              "      <td>6160.350098</td>\n",
              "      <td>6174.600098</td>\n",
              "      <td>146900</td>\n",
              "      <td>0.0</td>\n",
              "    </tr>\n",
              "    <tr>\n",
              "      <th>...</th>\n",
              "      <td>...</td>\n",
              "      <td>...</td>\n",
              "      <td>...</td>\n",
              "      <td>...</td>\n",
              "      <td>...</td>\n",
              "      <td>...</td>\n",
              "    </tr>\n",
              "    <tr>\n",
              "      <th>2024-07-18 00:00:00+05:30</th>\n",
              "      <td>24543.800781</td>\n",
              "      <td>24837.750000</td>\n",
              "      <td>24504.449219</td>\n",
              "      <td>24800.849609</td>\n",
              "      <td>350900</td>\n",
              "      <td>0.0</td>\n",
              "    </tr>\n",
              "    <tr>\n",
              "      <th>2024-07-19 00:00:00+05:30</th>\n",
              "      <td>24853.800781</td>\n",
              "      <td>24854.800781</td>\n",
              "      <td>24508.150391</td>\n",
              "      <td>24530.900391</td>\n",
              "      <td>343800</td>\n",
              "      <td>1.0</td>\n",
              "    </tr>\n",
              "    <tr>\n",
              "      <th>2024-07-22 00:00:00+05:30</th>\n",
              "      <td>24445.750000</td>\n",
              "      <td>24595.199219</td>\n",
              "      <td>24362.300781</td>\n",
              "      <td>24509.250000</td>\n",
              "      <td>324200</td>\n",
              "      <td>0.0</td>\n",
              "    </tr>\n",
              "    <tr>\n",
              "      <th>2024-07-23 00:00:00+05:30</th>\n",
              "      <td>24568.900391</td>\n",
              "      <td>24582.550781</td>\n",
              "      <td>24074.199219</td>\n",
              "      <td>24479.050781</td>\n",
              "      <td>436400</td>\n",
              "      <td>0.0</td>\n",
              "    </tr>\n",
              "    <tr>\n",
              "      <th>2024-07-24 00:00:00+05:30</th>\n",
              "      <td>24444.949219</td>\n",
              "      <td>24504.250000</td>\n",
              "      <td>24307.250000</td>\n",
              "      <td>24413.500000</td>\n",
              "      <td>366600</td>\n",
              "      <td>1.0</td>\n",
              "    </tr>\n",
              "  </tbody>\n",
              "</table>\n",
              "<p>2590 rows × 6 columns</p>\n",
              "</div>\n",
              "    <div class=\"colab-df-buttons\">\n",
              "\n",
              "  <div class=\"colab-df-container\">\n",
              "    <button class=\"colab-df-convert\" onclick=\"convertToInteractive('df-8a6cca69-f402-4ebf-a6c1-069670178773')\"\n",
              "            title=\"Convert this dataframe to an interactive table.\"\n",
              "            style=\"display:none;\">\n",
              "\n",
              "  <svg xmlns=\"http://www.w3.org/2000/svg\" height=\"24px\" viewBox=\"0 -960 960 960\">\n",
              "    <path d=\"M120-120v-720h720v720H120Zm60-500h600v-160H180v160Zm220 220h160v-160H400v160Zm0 220h160v-160H400v160ZM180-400h160v-160H180v160Zm440 0h160v-160H620v160ZM180-180h160v-160H180v160Zm440 0h160v-160H620v160Z\"/>\n",
              "  </svg>\n",
              "    </button>\n",
              "\n",
              "  <style>\n",
              "    .colab-df-container {\n",
              "      display:flex;\n",
              "      gap: 12px;\n",
              "    }\n",
              "\n",
              "    .colab-df-convert {\n",
              "      background-color: #E8F0FE;\n",
              "      border: none;\n",
              "      border-radius: 50%;\n",
              "      cursor: pointer;\n",
              "      display: none;\n",
              "      fill: #1967D2;\n",
              "      height: 32px;\n",
              "      padding: 0 0 0 0;\n",
              "      width: 32px;\n",
              "    }\n",
              "\n",
              "    .colab-df-convert:hover {\n",
              "      background-color: #E2EBFA;\n",
              "      box-shadow: 0px 1px 2px rgba(60, 64, 67, 0.3), 0px 1px 3px 1px rgba(60, 64, 67, 0.15);\n",
              "      fill: #174EA6;\n",
              "    }\n",
              "\n",
              "    .colab-df-buttons div {\n",
              "      margin-bottom: 4px;\n",
              "    }\n",
              "\n",
              "    [theme=dark] .colab-df-convert {\n",
              "      background-color: #3B4455;\n",
              "      fill: #D2E3FC;\n",
              "    }\n",
              "\n",
              "    [theme=dark] .colab-df-convert:hover {\n",
              "      background-color: #434B5C;\n",
              "      box-shadow: 0px 1px 3px 1px rgba(0, 0, 0, 0.15);\n",
              "      filter: drop-shadow(0px 1px 2px rgba(0, 0, 0, 0.3));\n",
              "      fill: #FFFFFF;\n",
              "    }\n",
              "  </style>\n",
              "\n",
              "    <script>\n",
              "      const buttonEl =\n",
              "        document.querySelector('#df-8a6cca69-f402-4ebf-a6c1-069670178773 button.colab-df-convert');\n",
              "      buttonEl.style.display =\n",
              "        google.colab.kernel.accessAllowed ? 'block' : 'none';\n",
              "\n",
              "      async function convertToInteractive(key) {\n",
              "        const element = document.querySelector('#df-8a6cca69-f402-4ebf-a6c1-069670178773');\n",
              "        const dataTable =\n",
              "          await google.colab.kernel.invokeFunction('convertToInteractive',\n",
              "                                                    [key], {});\n",
              "        if (!dataTable) return;\n",
              "\n",
              "        const docLinkHtml = 'Like what you see? Visit the ' +\n",
              "          '<a target=\"_blank\" href=https://colab.research.google.com/notebooks/data_table.ipynb>data table notebook</a>'\n",
              "          + ' to learn more about interactive tables.';\n",
              "        element.innerHTML = '';\n",
              "        dataTable['output_type'] = 'display_data';\n",
              "        await google.colab.output.renderOutput(dataTable, element);\n",
              "        const docLink = document.createElement('div');\n",
              "        docLink.innerHTML = docLinkHtml;\n",
              "        element.appendChild(docLink);\n",
              "      }\n",
              "    </script>\n",
              "  </div>\n",
              "\n",
              "\n",
              "<div id=\"df-5f0fe712-3b6d-4320-9ea7-984615d14e13\">\n",
              "  <button class=\"colab-df-quickchart\" onclick=\"quickchart('df-5f0fe712-3b6d-4320-9ea7-984615d14e13')\"\n",
              "            title=\"Suggest charts\"\n",
              "            style=\"display:none;\">\n",
              "\n",
              "<svg xmlns=\"http://www.w3.org/2000/svg\" height=\"24px\"viewBox=\"0 0 24 24\"\n",
              "     width=\"24px\">\n",
              "    <g>\n",
              "        <path d=\"M19 3H5c-1.1 0-2 .9-2 2v14c0 1.1.9 2 2 2h14c1.1 0 2-.9 2-2V5c0-1.1-.9-2-2-2zM9 17H7v-7h2v7zm4 0h-2V7h2v10zm4 0h-2v-4h2v4z\"/>\n",
              "    </g>\n",
              "</svg>\n",
              "  </button>\n",
              "\n",
              "<style>\n",
              "  .colab-df-quickchart {\n",
              "      --bg-color: #E8F0FE;\n",
              "      --fill-color: #1967D2;\n",
              "      --hover-bg-color: #E2EBFA;\n",
              "      --hover-fill-color: #174EA6;\n",
              "      --disabled-fill-color: #AAA;\n",
              "      --disabled-bg-color: #DDD;\n",
              "  }\n",
              "\n",
              "  [theme=dark] .colab-df-quickchart {\n",
              "      --bg-color: #3B4455;\n",
              "      --fill-color: #D2E3FC;\n",
              "      --hover-bg-color: #434B5C;\n",
              "      --hover-fill-color: #FFFFFF;\n",
              "      --disabled-bg-color: #3B4455;\n",
              "      --disabled-fill-color: #666;\n",
              "  }\n",
              "\n",
              "  .colab-df-quickchart {\n",
              "    background-color: var(--bg-color);\n",
              "    border: none;\n",
              "    border-radius: 50%;\n",
              "    cursor: pointer;\n",
              "    display: none;\n",
              "    fill: var(--fill-color);\n",
              "    height: 32px;\n",
              "    padding: 0;\n",
              "    width: 32px;\n",
              "  }\n",
              "\n",
              "  .colab-df-quickchart:hover {\n",
              "    background-color: var(--hover-bg-color);\n",
              "    box-shadow: 0 1px 2px rgba(60, 64, 67, 0.3), 0 1px 3px 1px rgba(60, 64, 67, 0.15);\n",
              "    fill: var(--button-hover-fill-color);\n",
              "  }\n",
              "\n",
              "  .colab-df-quickchart-complete:disabled,\n",
              "  .colab-df-quickchart-complete:disabled:hover {\n",
              "    background-color: var(--disabled-bg-color);\n",
              "    fill: var(--disabled-fill-color);\n",
              "    box-shadow: none;\n",
              "  }\n",
              "\n",
              "  .colab-df-spinner {\n",
              "    border: 2px solid var(--fill-color);\n",
              "    border-color: transparent;\n",
              "    border-bottom-color: var(--fill-color);\n",
              "    animation:\n",
              "      spin 1s steps(1) infinite;\n",
              "  }\n",
              "\n",
              "  @keyframes spin {\n",
              "    0% {\n",
              "      border-color: transparent;\n",
              "      border-bottom-color: var(--fill-color);\n",
              "      border-left-color: var(--fill-color);\n",
              "    }\n",
              "    20% {\n",
              "      border-color: transparent;\n",
              "      border-left-color: var(--fill-color);\n",
              "      border-top-color: var(--fill-color);\n",
              "    }\n",
              "    30% {\n",
              "      border-color: transparent;\n",
              "      border-left-color: var(--fill-color);\n",
              "      border-top-color: var(--fill-color);\n",
              "      border-right-color: var(--fill-color);\n",
              "    }\n",
              "    40% {\n",
              "      border-color: transparent;\n",
              "      border-right-color: var(--fill-color);\n",
              "      border-top-color: var(--fill-color);\n",
              "    }\n",
              "    60% {\n",
              "      border-color: transparent;\n",
              "      border-right-color: var(--fill-color);\n",
              "    }\n",
              "    80% {\n",
              "      border-color: transparent;\n",
              "      border-right-color: var(--fill-color);\n",
              "      border-bottom-color: var(--fill-color);\n",
              "    }\n",
              "    90% {\n",
              "      border-color: transparent;\n",
              "      border-bottom-color: var(--fill-color);\n",
              "    }\n",
              "  }\n",
              "</style>\n",
              "\n",
              "  <script>\n",
              "    async function quickchart(key) {\n",
              "      const quickchartButtonEl =\n",
              "        document.querySelector('#' + key + ' button');\n",
              "      quickchartButtonEl.disabled = true;  // To prevent multiple clicks.\n",
              "      quickchartButtonEl.classList.add('colab-df-spinner');\n",
              "      try {\n",
              "        const charts = await google.colab.kernel.invokeFunction(\n",
              "            'suggestCharts', [key], {});\n",
              "      } catch (error) {\n",
              "        console.error('Error during call to suggestCharts:', error);\n",
              "      }\n",
              "      quickchartButtonEl.classList.remove('colab-df-spinner');\n",
              "      quickchartButtonEl.classList.add('colab-df-quickchart-complete');\n",
              "    }\n",
              "    (() => {\n",
              "      let quickchartButtonEl =\n",
              "        document.querySelector('#df-5f0fe712-3b6d-4320-9ea7-984615d14e13 button');\n",
              "      quickchartButtonEl.style.display =\n",
              "        google.colab.kernel.accessAllowed ? 'block' : 'none';\n",
              "    })();\n",
              "  </script>\n",
              "</div>\n",
              "\n",
              "  <div id=\"id_3a2fcc41-3e90-404a-9c6b-c38187a54108\">\n",
              "    <style>\n",
              "      .colab-df-generate {\n",
              "        background-color: #E8F0FE;\n",
              "        border: none;\n",
              "        border-radius: 50%;\n",
              "        cursor: pointer;\n",
              "        display: none;\n",
              "        fill: #1967D2;\n",
              "        height: 32px;\n",
              "        padding: 0 0 0 0;\n",
              "        width: 32px;\n",
              "      }\n",
              "\n",
              "      .colab-df-generate:hover {\n",
              "        background-color: #E2EBFA;\n",
              "        box-shadow: 0px 1px 2px rgba(60, 64, 67, 0.3), 0px 1px 3px 1px rgba(60, 64, 67, 0.15);\n",
              "        fill: #174EA6;\n",
              "      }\n",
              "\n",
              "      [theme=dark] .colab-df-generate {\n",
              "        background-color: #3B4455;\n",
              "        fill: #D2E3FC;\n",
              "      }\n",
              "\n",
              "      [theme=dark] .colab-df-generate:hover {\n",
              "        background-color: #434B5C;\n",
              "        box-shadow: 0px 1px 3px 1px rgba(0, 0, 0, 0.15);\n",
              "        filter: drop-shadow(0px 1px 2px rgba(0, 0, 0, 0.3));\n",
              "        fill: #FFFFFF;\n",
              "      }\n",
              "    </style>\n",
              "    <button class=\"colab-df-generate\" onclick=\"generateWithVariable('nifty')\"\n",
              "            title=\"Generate code using this dataframe.\"\n",
              "            style=\"display:none;\">\n",
              "\n",
              "  <svg xmlns=\"http://www.w3.org/2000/svg\" height=\"24px\"viewBox=\"0 0 24 24\"\n",
              "       width=\"24px\">\n",
              "    <path d=\"M7,19H8.4L18.45,9,17,7.55,7,17.6ZM5,21V16.75L18.45,3.32a2,2,0,0,1,2.83,0l1.4,1.43a1.91,1.91,0,0,1,.58,1.4,1.91,1.91,0,0,1-.58,1.4L9.25,21ZM18.45,9,17,7.55Zm-12,3A5.31,5.31,0,0,0,4.9,8.1,5.31,5.31,0,0,0,1,6.5,5.31,5.31,0,0,0,4.9,4.9,5.31,5.31,0,0,0,6.5,1,5.31,5.31,0,0,0,8.1,4.9,5.31,5.31,0,0,0,12,6.5,5.46,5.46,0,0,0,6.5,12Z\"/>\n",
              "  </svg>\n",
              "    </button>\n",
              "    <script>\n",
              "      (() => {\n",
              "      const buttonEl =\n",
              "        document.querySelector('#id_3a2fcc41-3e90-404a-9c6b-c38187a54108 button.colab-df-generate');\n",
              "      buttonEl.style.display =\n",
              "        google.colab.kernel.accessAllowed ? 'block' : 'none';\n",
              "\n",
              "      buttonEl.onclick = () => {\n",
              "        google.colab.notebook.generateWithVariable('nifty');\n",
              "      }\n",
              "      })();\n",
              "    </script>\n",
              "  </div>\n",
              "\n",
              "    </div>\n",
              "  </div>\n"
            ],
            "application/vnd.google.colaboratory.intrinsic+json": {
              "type": "dataframe",
              "variable_name": "nifty",
              "summary": "{\n  \"name\": \"nifty\",\n  \"rows\": 2590,\n  \"fields\": [\n    {\n      \"column\": \"Date\",\n      \"properties\": {\n        \"dtype\": \"date\",\n        \"min\": \"2014-01-02 00:00:00+05:30\",\n        \"max\": \"2024-07-24 00:00:00+05:30\",\n        \"num_unique_values\": 2590,\n        \"samples\": [\n          \"2018-10-30 00:00:00+05:30\",\n          \"2018-12-06 00:00:00+05:30\",\n          \"2024-07-04 00:00:00+05:30\"\n        ],\n        \"semantic_type\": \"\",\n        \"description\": \"\"\n      }\n    },\n    {\n      \"column\": \"Open\",\n      \"properties\": {\n        \"dtype\": \"number\",\n        \"std\": 4547.258413817568,\n        \"min\": 5947.60009765625,\n        \"max\": 24853.80078125,\n        \"num_unique_values\": 2574,\n        \"samples\": [\n          10607.7998046875,\n          11289.0,\n          7357.0\n        ],\n        \"semantic_type\": \"\",\n        \"description\": \"\"\n      }\n    },\n    {\n      \"column\": \"High\",\n      \"properties\": {\n        \"dtype\": \"number\",\n        \"std\": 4563.357479872132,\n        \"min\": 6017.7998046875,\n        \"max\": 24854.80078125,\n        \"num_unique_values\": 2575,\n        \"samples\": [\n          11997.2001953125,\n          10757.7998046875,\n          7462.75\n        ],\n        \"semantic_type\": \"\",\n        \"description\": \"\"\n      }\n    },\n    {\n      \"column\": \"Low\",\n      \"properties\": {\n        \"dtype\": \"number\",\n        \"std\": 4524.638412568027,\n        \"min\": 5933.2998046875,\n        \"max\": 24587.650390625,\n        \"num_unique_values\": 2575,\n        \"samples\": [\n          11822.150390625,\n          10512.0,\n          7250.0\n        ],\n        \"semantic_type\": \"\",\n        \"description\": \"\"\n      }\n    },\n    {\n      \"column\": \"Close\",\n      \"properties\": {\n        \"dtype\": \"number\",\n        \"std\": 4546.564877186171,\n        \"min\": 6000.89990234375,\n        \"max\": 24800.849609375,\n        \"num_unique_values\": 2567,\n        \"samples\": [\n          10623.599609375,\n          16929.599609375,\n          17245.05078125\n        ],\n        \"semantic_type\": \"\",\n        \"description\": \"\"\n      }\n    },\n    {\n      \"column\": \"Volume\",\n      \"properties\": {\n        \"dtype\": \"number\",\n        \"std\": 195480,\n        \"min\": 0,\n        \"max\": 1811000,\n        \"num_unique_values\": 1910,\n        \"samples\": [\n          621600,\n          124100,\n          343900\n        ],\n        \"semantic_type\": \"\",\n        \"description\": \"\"\n      }\n    },\n    {\n      \"column\": \"Target\",\n      \"properties\": {\n        \"dtype\": \"number\",\n        \"std\": 0.4991651382667389,\n        \"min\": 0.0,\n        \"max\": 1.0,\n        \"num_unique_values\": 2,\n        \"samples\": [\n          0.0,\n          1.0\n        ],\n        \"semantic_type\": \"\",\n        \"description\": \"\"\n      }\n    }\n  ]\n}"
            }
          },
          "metadata": {},
          "execution_count": 8
        }
      ],
      "source": [
        "nifty"
      ],
      "id": "fbb162ce-7d18-4c14-b349-9014c0d6db42"
    },
    {
      "cell_type": "code",
      "execution_count": 9,
      "metadata": {
        "colab": {
          "base_uri": "https://localhost:8080/",
          "height": 860
        },
        "execution": {
          "iopub.execute_input": "2024-07-18T12:28:19.334630Z",
          "iopub.status.busy": "2024-07-18T12:28:19.334285Z",
          "iopub.status.idle": "2024-07-18T12:28:20.486104Z",
          "shell.execute_reply": "2024-07-18T12:28:20.484629Z",
          "shell.execute_reply.started": "2024-07-18T12:28:19.334602Z"
        },
        "id": "Xa34HNoW6SLN",
        "outputId": "e2986b7b-600f-4788-bbdd-84f5d59ce89c",
        "trusted": true
      },
      "outputs": [
        {
          "output_type": "execute_result",
          "data": {
            "text/plain": [
              "<Axes: xlabel='Date'>"
            ]
          },
          "metadata": {},
          "execution_count": 9
        },
        {
          "output_type": "display_data",
          "data": {
            "text/plain": [
              "<Figure size 640x480 with 1 Axes>"
            ],
            "image/png": "[encoded data removed]"
          },
          "metadata": {}
        },
        {
          "output_type": "display_data",
          "data": {
            "text/plain": [
              "<Figure size 640x480 with 1 Axes>"
            ],
            "image/png": "[encoded data removed]"
          },
          "metadata": {}
        }
      ],
      "source": [
        "nifty.plot.line(y=\"Close\", use_index=True)\n",
        "nifty.plot.line(y=\"Volume\", use_index=True)"
      ],
      "id": "Xa34HNoW6SLN"
    },
    {
      "cell_type": "markdown",
      "metadata": {
        "id": "4DAI80Er7TAe"
      },
      "source": [
        "**First we are going to make a simple model with less features using random forest classifier of sklearn module**(which will predict whether the stock price will go up(1) or down(0) tomorrow) :"
      ],
      "id": "4DAI80Er7TAe"
    },
    {
      "cell_type": "code",
      "execution_count": 10,
      "metadata": {
        "colab": {
          "base_uri": "https://localhost:8080/"
        },
        "execution": {
          "iopub.execute_input": "2024-07-18T12:28:20.489227Z",
          "iopub.status.busy": "2024-07-18T12:28:20.488681Z",
          "iopub.status.idle": "2024-07-18T12:28:23.693861Z",
          "shell.execute_reply": "2024-07-18T12:28:23.692539Z",
          "shell.execute_reply.started": "2024-07-18T12:28:20.489183Z"
        },
        "id": "ad95d689-520a-4141-ab6e-a0fe3f9697a6",
        "outputId": "39b73e0e-463c-41ba-c663-3e2d062ed0eb",
        "trusted": true
      },
      "outputs": [
        {
          "output_type": "stream",
          "name": "stdout",
          "text": [
            "[0.19153477 0.25079093 0.18434354 0.18467707 0.18865369]\n",
            "Training score 0.9540540540540541\n"
          ]
        }
      ],
      "source": [
        "nifty=data(\"^NSEI\")\n",
        "from sklearn.ensemble import RandomForestClassifier\n",
        "model = RandomForestClassifier(n_estimators=200, min_samples_split=10, random_state=50,n_jobs=-1)\n",
        "train= nifty.iloc[-400:-30]                     #Using only recent data and smaller test set to prevent overfitting and underfitting both\n",
        "test = nifty.iloc[-30:-1]\n",
        "features = [\"Close\", \"Volume\", \"Open\", \"High\", \"Low\"]\n",
        "model.fit(train[features], train[\"Target\"])\n",
        "print(model.feature_importances_)\n",
        "print(\"Training score\",model.score(train[features], train[\"Target\"]))"
      ],
      "id": "ad95d689-520a-4141-ab6e-a0fe3f9697a6"
    },
    {
      "cell_type": "markdown",
      "metadata": {
        "id": "p7WX1y2h0eeG"
      },
      "source": [
        "Following are the results of the predictions of the model whether stock price will increase or decrease tomorrow using only \"Close\", \"Volume\", \"Open\", \"High\", \"Low\" prices of today :\n"
      ],
      "id": "p7WX1y2h0eeG"
    },
    {
      "cell_type": "code",
      "execution_count": 12,
      "metadata": {
        "colab": {
          "base_uri": "https://localhost:8080/"
        },
        "execution": {
          "iopub.execute_input": "2024-07-18T12:28:23.696991Z",
          "iopub.status.busy": "2024-07-18T12:28:23.695918Z",
          "iopub.status.idle": "2024-07-18T12:28:23.824993Z",
          "shell.execute_reply": "2024-07-18T12:28:23.823044Z",
          "shell.execute_reply.started": "2024-07-18T12:28:23.696945Z"
        },
        "id": "c0837787-5d4e-4a20-ad0d-3a546bc23cdb",
        "outputId": "ebe230be-78be-40af-d1b1-879ee23f0f70",
        "trusted": true
      },
      "outputs": [
        {
          "output_type": "stream",
          "name": "stdout",
          "text": [
            "Accuracy Score 0.6206896551724138\n"
          ]
        }
      ],
      "source": [
        "from sklearn.metrics import accuracy_score\n",
        "\n",
        "prediction = model.predict(test[features])\n",
        "prediction = pd.Series(prediction, index=test.index)\n",
        "print(\"Accuracy Score\",accuracy_score(test[\"Target\"], prediction))"
      ],
      "id": "c0837787-5d4e-4a20-ad0d-3a546bc23cdb"
    },
    {
      "cell_type": "markdown",
      "metadata": {
        "id": "OKu6U3xw0dT4"
      },
      "source": [
        "**For the following model, various indicators will be used (using pandas_ta) :**"
      ],
      "id": "OKu6U3xw0dT4"
    },
    {
      "cell_type": "code",
      "execution_count": 13,
      "metadata": {
        "colab": {
          "base_uri": "https://localhost:8080/",
          "height": 665
        },
        "execution": {
          "iopub.execute_input": "2024-07-18T12:26:48.073777Z",
          "iopub.status.busy": "2024-07-18T12:26:48.072812Z",
          "iopub.status.idle": "2024-07-18T12:26:48.523073Z",
          "shell.execute_reply": "2024-07-18T12:26:48.521269Z",
          "shell.execute_reply.started": "2024-07-18T12:26:48.073739Z"
        },
        "id": "Y_ho1VDM2wvJ",
        "outputId": "b63cee17-cc8a-4ccd-d4bf-c0b172401c4b",
        "trusted": true
      },
      "outputs": [
        {
          "output_type": "execute_result",
          "data": {
            "text/plain": [
              "                                   Open          High           Low  \\\n",
              "Date                                                                  \n",
              "2014-02-19 00:00:00+05:30   6132.049805   6160.350098   6125.750000   \n",
              "2014-02-20 00:00:00+05:30   6127.149902   6129.100098   6086.450195   \n",
              "2014-02-21 00:00:00+05:30   6108.299805   6159.649902   6108.000000   \n",
              "2014-02-24 00:00:00+05:30   6140.950195   6191.850098   6130.799805   \n",
              "2014-02-25 00:00:00+05:30   6205.700195   6216.850098   6176.600098   \n",
              "...                                 ...           ...           ...   \n",
              "2024-07-16 00:00:00+05:30  24615.900391  24661.250000  24587.650391   \n",
              "2024-07-18 00:00:00+05:30  24543.800781  24837.750000  24504.449219   \n",
              "2024-07-19 00:00:00+05:30  24853.800781  24854.800781  24508.150391   \n",
              "2024-07-22 00:00:00+05:30  24445.750000  24595.199219  24362.300781   \n",
              "2024-07-23 00:00:00+05:30  24568.900391  24582.550781  24074.199219   \n",
              "\n",
              "                                  Close  Volume  Target        SMA_10  \\\n",
              "Date                                                                    \n",
              "2014-02-19 00:00:00+05:30   6152.750000   95200     0.0   6065.135059   \n",
              "2014-02-20 00:00:00+05:30   6091.450195  132100     1.0   6072.040088   \n",
              "2014-02-21 00:00:00+05:30   6155.450195  112600     1.0   6083.955127   \n",
              "2014-02-24 00:00:00+05:30   6186.100098  144900     0.0   6096.245117   \n",
              "2014-02-25 00:00:00+05:30   6200.049805  146300     1.0   6110.905078   \n",
              "...                                 ...     ...     ...           ...   \n",
              "2024-07-16 00:00:00+05:30  24613.000000  283200     1.0  24400.849805   \n",
              "2024-07-18 00:00:00+05:30  24800.849609  350900     0.0  24452.284766   \n",
              "2024-07-19 00:00:00+05:30  24530.900391  343800     1.0  24475.159766   \n",
              "2024-07-22 00:00:00+05:30  24509.250000  324200     0.0  24493.699805   \n",
              "2024-07-23 00:00:00+05:30  24479.050781  436400     0.0  24509.549805   \n",
              "\n",
              "                                 EMA_10     RSI_14        MACD  ...  \\\n",
              "Date                                                            ...   \n",
              "2014-02-19 00:00:00+05:30   6086.767606  53.324903  -49.153151  ...   \n",
              "2014-02-20 00:00:00+05:30   6087.618986  46.788779  -45.287959  ...   \n",
              "2014-02-21 00:00:00+05:30   6099.951933  53.233846  -36.638160  ...   \n",
              "2014-02-24 00:00:00+05:30   6115.615236  55.983473  -26.998716  ...   \n",
              "2014-02-25 00:00:00+05:30   6130.966976  57.216407  -18.025971  ...   \n",
              "...                                 ...        ...         ...  ...   \n",
              "2024-07-16 00:00:00+05:30  24376.252186  74.377006  367.703640  ...   \n",
              "2024-07-18 00:00:00+05:30  24453.451718  77.411690  378.618226  ...   \n",
              "2024-07-19 00:00:00+05:30  24467.533294  65.420695  361.320392  ...   \n",
              "2024-07-22 00:00:00+05:30  24475.118150  64.557000  341.923250  ...   \n",
              "2024-07-23 00:00:00+05:30  24475.833174  63.301622  320.420443  ...   \n",
              "\n",
              "                              Close_t-8      Open_t-8      High_t-8  \\\n",
              "Date                                                                  \n",
              "2014-02-19 00:00:00+05:30   6036.299805   6028.350098   6048.350098   \n",
              "2014-02-20 00:00:00+05:30   6063.200195   6077.649902   6079.950195   \n",
              "2014-02-21 00:00:00+05:30   6053.450195   6072.799805   6083.049805   \n",
              "2014-02-24 00:00:00+05:30   6062.700195   6072.450195   6081.850098   \n",
              "2014-02-25 00:00:00+05:30   6084.000000   6085.350098   6106.600098   \n",
              "...                                 ...           ...           ...   \n",
              "2024-07-16 00:00:00+05:30  24302.150391  24369.949219  24401.000000   \n",
              "2024-07-18 00:00:00+05:30  24323.849609  24213.349609  24363.000000   \n",
              "2024-07-19 00:00:00+05:30  24320.550781  24329.449219  24344.599609   \n",
              "2024-07-22 00:00:00+05:30  24433.199219  24351.000000  24443.599609   \n",
              "2024-07-23 00:00:00+05:30  24324.449219  24459.849609  24461.050781   \n",
              "\n",
              "                                Low_t-8  Volume_t-8     Close_t-9  \\\n",
              "Date                                                                \n",
              "2014-02-19 00:00:00+05:30   5965.399902    185500.0   6022.399902   \n",
              "2014-02-20 00:00:00+05:30   6030.899902    181900.0   6036.299805   \n",
              "2014-02-21 00:00:00+05:30   6046.399902    133100.0   6063.200195   \n",
              "2014-02-24 00:00:00+05:30   6053.250000    150500.0   6053.450195   \n",
              "2014-02-25 00:00:00+05:30   6077.399902    138500.0   6062.700195   \n",
              "...                                 ...         ...           ...   \n",
              "2024-07-16 00:00:00+05:30  24281.000000    251200.0  24286.500000   \n",
              "2024-07-18 00:00:00+05:30  24168.849609    298400.0  24302.150391   \n",
              "2024-07-19 00:00:00+05:30  24240.550781    266300.0  24323.849609   \n",
              "2024-07-22 00:00:00+05:30  24331.900391    250500.0  24320.550781   \n",
              "2024-07-23 00:00:00+05:30  24141.800781    292300.0  24433.199219   \n",
              "\n",
              "                               Open_t-9      High_t-9       Low_t-9  \\\n",
              "Date                                                                  \n",
              "2014-02-19 00:00:00+05:30   6004.250000   6028.049805   5962.049805   \n",
              "2014-02-20 00:00:00+05:30   6028.350098   6048.350098   5965.399902   \n",
              "2014-02-21 00:00:00+05:30   6077.649902   6079.950195   6030.899902   \n",
              "2014-02-24 00:00:00+05:30   6072.799805   6083.049805   6046.399902   \n",
              "2014-02-25 00:00:00+05:30   6072.450195   6081.850098   6053.250000   \n",
              "...                                 ...           ...           ...   \n",
              "2024-07-16 00:00:00+05:30  24291.750000  24309.150391  24207.099609   \n",
              "2024-07-18 00:00:00+05:30  24369.949219  24401.000000  24281.000000   \n",
              "2024-07-19 00:00:00+05:30  24213.349609  24363.000000  24168.849609   \n",
              "2024-07-22 00:00:00+05:30  24329.449219  24344.599609  24240.550781   \n",
              "2024-07-23 00:00:00+05:30  24351.000000  24443.599609  24331.900391   \n",
              "\n",
              "                           Volume_t-9  \n",
              "Date                                   \n",
              "2014-02-19 00:00:00+05:30    166600.0  \n",
              "2014-02-20 00:00:00+05:30    185500.0  \n",
              "2014-02-21 00:00:00+05:30    181900.0  \n",
              "2014-02-24 00:00:00+05:30    133100.0  \n",
              "2014-02-25 00:00:00+05:30    150500.0  \n",
              "...                               ...  \n",
              "2024-07-16 00:00:00+05:30         0.0  \n",
              "2024-07-18 00:00:00+05:30    251200.0  \n",
              "2024-07-19 00:00:00+05:30    298400.0  \n",
              "2024-07-22 00:00:00+05:30    266300.0  \n",
              "2024-07-23 00:00:00+05:30    250500.0  \n",
              "\n",
              "[2556 rows x 62 columns]"
            ],
            "text/html": [
              "\n",
              "  <div id=\"df-a8c7a1ee-5e22-4823-a6f9-c3393f79271e\" class=\"colab-df-container\">\n",
              "    <div>\n",
              "<style scoped>\n",
              "    .dataframe tbody tr th:only-of-type {\n",
              "        vertical-align: middle;\n",
              "    }\n",
              "\n",
              "    .dataframe tbody tr th {\n",
              "        vertical-align: top;\n",
              "    }\n",
              "\n",
              "    .dataframe thead th {\n",
              "        text-align: right;\n",
              "    }\n",
              "</style>\n",
              "<table border=\"1\" class=\"dataframe\">\n",
              "  <thead>\n",
              "    <tr style=\"text-align: right;\">\n",
              "      <th></th>\n",
              "      <th>Open</th>\n",
              "      <th>High</th>\n",
              "      <th>Low</th>\n",
              "      <th>Close</th>\n",
              "      <th>Volume</th>\n",
              "      <th>Target</th>\n",
              "      <th>SMA_10</th>\n",
              "      <th>EMA_10</th>\n",
              "      <th>RSI_14</th>\n",
              "      <th>MACD</th>\n",
              "      <th>...</th>\n",
              "      <th>Close_t-8</th>\n",
              "      <th>Open_t-8</th>\n",
              "      <th>High_t-8</th>\n",
              "      <th>Low_t-8</th>\n",
              "      <th>Volume_t-8</th>\n",
              "      <th>Close_t-9</th>\n",
              "      <th>Open_t-9</th>\n",
              "      <th>High_t-9</th>\n",
              "      <th>Low_t-9</th>\n",
              "      <th>Volume_t-9</th>\n",
              "    </tr>\n",
              "    <tr>\n",
              "      <th>Date</th>\n",
              "      <th></th>\n",
              "      <th></th>\n",
              "      <th></th>\n",
              "      <th></th>\n",
              "      <th></th>\n",
              "      <th></th>\n",
              "      <th></th>\n",
              "      <th></th>\n",
              "      <th></th>\n",
              "      <th></th>\n",
              "      <th></th>\n",
              "      <th></th>\n",
              "      <th></th>\n",
              "      <th></th>\n",
              "      <th></th>\n",
              "      <th></th>\n",
              "      <th></th>\n",
              "      <th></th>\n",
              "      <th></th>\n",
              "      <th></th>\n",
              "      <th></th>\n",
              "    </tr>\n",
              "  </thead>\n",
              "  <tbody>\n",
              "    <tr>\n",
              "      <th>2014-02-19 00:00:00+05:30</th>\n",
              "      <td>6132.049805</td>\n",
              "      <td>6160.350098</td>\n",
              "      <td>6125.750000</td>\n",
              "      <td>6152.750000</td>\n",
              "      <td>95200</td>\n",
              "      <td>0.0</td>\n",
              "      <td>6065.135059</td>\n",
              "      <td>6086.767606</td>\n",
              "      <td>53.324903</td>\n",
              "      <td>-49.153151</td>\n",
              "      <td>...</td>\n",
              "      <td>6036.299805</td>\n",
              "      <td>6028.350098</td>\n",
              "      <td>6048.350098</td>\n",
              "      <td>5965.399902</td>\n",
              "      <td>185500.0</td>\n",
              "      <td>6022.399902</td>\n",
              "      <td>6004.250000</td>\n",
              "      <td>6028.049805</td>\n",
              "      <td>5962.049805</td>\n",
              "      <td>166600.0</td>\n",
              "    </tr>\n",
              "    <tr>\n",
              "      <th>2014-02-20 00:00:00+05:30</th>\n",
              "      <td>6127.149902</td>\n",
              "      <td>6129.100098</td>\n",
              "      <td>6086.450195</td>\n",
              "      <td>6091.450195</td>\n",
              "      <td>132100</td>\n",
              "      <td>1.0</td>\n",
              "      <td>6072.040088</td>\n",
              "      <td>6087.618986</td>\n",
              "      <td>46.788779</td>\n",
              "      <td>-45.287959</td>\n",
              "      <td>...</td>\n",
              "      <td>6063.200195</td>\n",
              "      <td>6077.649902</td>\n",
              "      <td>6079.950195</td>\n",
              "      <td>6030.899902</td>\n",
              "      <td>181900.0</td>\n",
              "      <td>6036.299805</td>\n",
              "      <td>6028.350098</td>\n",
              "      <td>6048.350098</td>\n",
              "      <td>5965.399902</td>\n",
              "      <td>185500.0</td>\n",
              "    </tr>\n",
              "    <tr>\n",
              "      <th>2014-02-21 00:00:00+05:30</th>\n",
              "      <td>6108.299805</td>\n",
              "      <td>6159.649902</td>\n",
              "      <td>6108.000000</td>\n",
              "      <td>6155.450195</td>\n",
              "      <td>112600</td>\n",
              "      <td>1.0</td>\n",
              "      <td>6083.955127</td>\n",
              "      <td>6099.951933</td>\n",
              "      <td>53.233846</td>\n",
              "      <td>-36.638160</td>\n",
              "      <td>...</td>\n",
              "      <td>6053.450195</td>\n",
              "      <td>6072.799805</td>\n",
              "      <td>6083.049805</td>\n",
              "      <td>6046.399902</td>\n",
              "      <td>133100.0</td>\n",
              "      <td>6063.200195</td>\n",
              "      <td>6077.649902</td>\n",
              "      <td>6079.950195</td>\n",
              "      <td>6030.899902</td>\n",
              "      <td>181900.0</td>\n",
              "    </tr>\n",
              "    <tr>\n",
              "      <th>2014-02-24 00:00:00+05:30</th>\n",
              "      <td>6140.950195</td>\n",
              "      <td>6191.850098</td>\n",
              "      <td>6130.799805</td>\n",
              "      <td>6186.100098</td>\n",
              "      <td>144900</td>\n",
              "      <td>0.0</td>\n",
              "      <td>6096.245117</td>\n",
              "      <td>6115.615236</td>\n",
              "      <td>55.983473</td>\n",
              "      <td>-26.998716</td>\n",
              "      <td>...</td>\n",
              "      <td>6062.700195</td>\n",
              "      <td>6072.450195</td>\n",
              "      <td>6081.850098</td>\n",
              "      <td>6053.250000</td>\n",
              "      <td>150500.0</td>\n",
              "      <td>6053.450195</td>\n",
              "      <td>6072.799805</td>\n",
              "      <td>6083.049805</td>\n",
              "      <td>6046.399902</td>\n",
              "      <td>133100.0</td>\n",
              "    </tr>\n",
              "    <tr>\n",
              "      <th>2014-02-25 00:00:00+05:30</th>\n",
              "      <td>6205.700195</td>\n",
              "      <td>6216.850098</td>\n",
              "      <td>6176.600098</td>\n",
              "      <td>6200.049805</td>\n",
              "      <td>146300</td>\n",
              "      <td>1.0</td>\n",
              "      <td>6110.905078</td>\n",
              "      <td>6130.966976</td>\n",
              "      <td>57.216407</td>\n",
              "      <td>-18.025971</td>\n",
              "      <td>...</td>\n",
              "      <td>6084.000000</td>\n",
              "      <td>6085.350098</td>\n",
              "      <td>6106.600098</td>\n",
              "      <td>6077.399902</td>\n",
              "      <td>138500.0</td>\n",
              "      <td>6062.700195</td>\n",
              "      <td>6072.450195</td>\n",
              "      <td>6081.850098</td>\n",
              "      <td>6053.250000</td>\n",
              "      <td>150500.0</td>\n",
              "    </tr>\n",
              "    <tr>\n",
              "      <th>...</th>\n",
              "      <td>...</td>\n",
              "      <td>...</td>\n",
              "      <td>...</td>\n",
              "      <td>...</td>\n",
              "      <td>...</td>\n",
              "      <td>...</td>\n",
              "      <td>...</td>\n",
              "      <td>...</td>\n",
              "      <td>...</td>\n",
              "      <td>...</td>\n",
              "      <td>...</td>\n",
              "      <td>...</td>\n",
              "      <td>...</td>\n",
              "      <td>...</td>\n",
              "      <td>...</td>\n",
              "      <td>...</td>\n",
              "      <td>...</td>\n",
              "      <td>...</td>\n",
              "      <td>...</td>\n",
              "      <td>...</td>\n",
              "      <td>...</td>\n",
              "    </tr>\n",
              "    <tr>\n",
              "      <th>2024-07-16 00:00:00+05:30</th>\n",
              "      <td>24615.900391</td>\n",
              "      <td>24661.250000</td>\n",
              "      <td>24587.650391</td>\n",
              "      <td>24613.000000</td>\n",
              "      <td>283200</td>\n",
              "      <td>1.0</td>\n",
              "      <td>24400.849805</td>\n",
              "      <td>24376.252186</td>\n",
              "      <td>74.377006</td>\n",
              "      <td>367.703640</td>\n",
              "      <td>...</td>\n",
              "      <td>24302.150391</td>\n",
              "      <td>24369.949219</td>\n",
              "      <td>24401.000000</td>\n",
              "      <td>24281.000000</td>\n",
              "      <td>251200.0</td>\n",
              "      <td>24286.500000</td>\n",
              "      <td>24291.750000</td>\n",
              "      <td>24309.150391</td>\n",
              "      <td>24207.099609</td>\n",
              "      <td>0.0</td>\n",
              "    </tr>\n",
              "    <tr>\n",
              "      <th>2024-07-18 00:00:00+05:30</th>\n",
              "      <td>24543.800781</td>\n",
              "      <td>24837.750000</td>\n",
              "      <td>24504.449219</td>\n",
              "      <td>24800.849609</td>\n",
              "      <td>350900</td>\n",
              "      <td>0.0</td>\n",
              "      <td>24452.284766</td>\n",
              "      <td>24453.451718</td>\n",
              "      <td>77.411690</td>\n",
              "      <td>378.618226</td>\n",
              "      <td>...</td>\n",
              "      <td>24323.849609</td>\n",
              "      <td>24213.349609</td>\n",
              "      <td>24363.000000</td>\n",
              "      <td>24168.849609</td>\n",
              "      <td>298400.0</td>\n",
              "      <td>24302.150391</td>\n",
              "      <td>24369.949219</td>\n",
              "      <td>24401.000000</td>\n",
              "      <td>24281.000000</td>\n",
              "      <td>251200.0</td>\n",
              "    </tr>\n",
              "    <tr>\n",
              "      <th>2024-07-19 00:00:00+05:30</th>\n",
              "      <td>24853.800781</td>\n",
              "      <td>24854.800781</td>\n",
              "      <td>24508.150391</td>\n",
              "      <td>24530.900391</td>\n",
              "      <td>343800</td>\n",
              "      <td>1.0</td>\n",
              "      <td>24475.159766</td>\n",
              "      <td>24467.533294</td>\n",
              "      <td>65.420695</td>\n",
              "      <td>361.320392</td>\n",
              "      <td>...</td>\n",
              "      <td>24320.550781</td>\n",
              "      <td>24329.449219</td>\n",
              "      <td>24344.599609</td>\n",
              "      <td>24240.550781</td>\n",
              "      <td>266300.0</td>\n",
              "      <td>24323.849609</td>\n",
              "      <td>24213.349609</td>\n",
              "      <td>24363.000000</td>\n",
              "      <td>24168.849609</td>\n",
              "      <td>298400.0</td>\n",
              "    </tr>\n",
              "    <tr>\n",
              "      <th>2024-07-22 00:00:00+05:30</th>\n",
              "      <td>24445.750000</td>\n",
              "      <td>24595.199219</td>\n",
              "      <td>24362.300781</td>\n",
              "      <td>24509.250000</td>\n",
              "      <td>324200</td>\n",
              "      <td>0.0</td>\n",
              "      <td>24493.699805</td>\n",
              "      <td>24475.118150</td>\n",
              "      <td>64.557000</td>\n",
              "      <td>341.923250</td>\n",
              "      <td>...</td>\n",
              "      <td>24433.199219</td>\n",
              "      <td>24351.000000</td>\n",
              "      <td>24443.599609</td>\n",
              "      <td>24331.900391</td>\n",
              "      <td>250500.0</td>\n",
              "      <td>24320.550781</td>\n",
              "      <td>24329.449219</td>\n",
              "      <td>24344.599609</td>\n",
              "      <td>24240.550781</td>\n",
              "      <td>266300.0</td>\n",
              "    </tr>\n",
              "    <tr>\n",
              "      <th>2024-07-23 00:00:00+05:30</th>\n",
              "      <td>24568.900391</td>\n",
              "      <td>24582.550781</td>\n",
              "      <td>24074.199219</td>\n",
              "      <td>24479.050781</td>\n",
              "      <td>436400</td>\n",
              "      <td>0.0</td>\n",
              "      <td>24509.549805</td>\n",
              "      <td>24475.833174</td>\n",
              "      <td>63.301622</td>\n",
              "      <td>320.420443</td>\n",
              "      <td>...</td>\n",
              "      <td>24324.449219</td>\n",
              "      <td>24459.849609</td>\n",
              "      <td>24461.050781</td>\n",
              "      <td>24141.800781</td>\n",
              "      <td>292300.0</td>\n",
              "      <td>24433.199219</td>\n",
              "      <td>24351.000000</td>\n",
              "      <td>24443.599609</td>\n",
              "      <td>24331.900391</td>\n",
              "      <td>250500.0</td>\n",
              "    </tr>\n",
              "  </tbody>\n",
              "</table>\n",
              "<p>2556 rows × 62 columns</p>\n",
              "</div>\n",
              "    <div class=\"colab-df-buttons\">\n",
              "\n",
              "  <div class=\"colab-df-container\">\n",
              "    <button class=\"colab-df-convert\" onclick=\"convertToInteractive('df-a8c7a1ee-5e22-4823-a6f9-c3393f79271e')\"\n",
              "            title=\"Convert this dataframe to an interactive table.\"\n",
              "            style=\"display:none;\">\n",
              "\n",
              "  <svg xmlns=\"http://www.w3.org/2000/svg\" height=\"24px\" viewBox=\"0 -960 960 960\">\n",
              "    <path d=\"M120-120v-720h720v720H120Zm60-500h600v-160H180v160Zm220 220h160v-160H400v160Zm0 220h160v-160H400v160ZM180-400h160v-160H180v160Zm440 0h160v-160H620v160ZM180-180h160v-160H180v160Zm440 0h160v-160H620v160Z\"/>\n",
              "  </svg>\n",
              "    </button>\n",
              "\n",
              "  <style>\n",
              "    .colab-df-container {\n",
              "      display:flex;\n",
              "      gap: 12px;\n",
              "    }\n",
              "\n",
              "    .colab-df-convert {\n",
              "      background-color: #E8F0FE;\n",
              "      border: none;\n",
              "      border-radius: 50%;\n",
              "      cursor: pointer;\n",
              "      display: none;\n",
              "      fill: #1967D2;\n",
              "      height: 32px;\n",
              "      padding: 0 0 0 0;\n",
              "      width: 32px;\n",
              "    }\n",
              "\n",
              "    .colab-df-convert:hover {\n",
              "      background-color: #E2EBFA;\n",
              "      box-shadow: 0px 1px 2px rgba(60, 64, 67, 0.3), 0px 1px 3px 1px rgba(60, 64, 67, 0.15);\n",
              "      fill: #174EA6;\n",
              "    }\n",
              "\n",
              "    .colab-df-buttons div {\n",
              "      margin-bottom: 4px;\n",
              "    }\n",
              "\n",
              "    [theme=dark] .colab-df-convert {\n",
              "      background-color: #3B4455;\n",
              "      fill: #D2E3FC;\n",
              "    }\n",
              "\n",
              "    [theme=dark] .colab-df-convert:hover {\n",
              "      background-color: #434B5C;\n",
              "      box-shadow: 0px 1px 3px 1px rgba(0, 0, 0, 0.15);\n",
              "      filter: drop-shadow(0px 1px 2px rgba(0, 0, 0, 0.3));\n",
              "      fill: #FFFFFF;\n",
              "    }\n",
              "  </style>\n",
              "\n",
              "    <script>\n",
              "      const buttonEl =\n",
              "        document.querySelector('#df-a8c7a1ee-5e22-4823-a6f9-c3393f79271e button.colab-df-convert');\n",
              "      buttonEl.style.display =\n",
              "        google.colab.kernel.accessAllowed ? 'block' : 'none';\n",
              "\n",
              "      async function convertToInteractive(key) {\n",
              "        const element = document.querySelector('#df-a8c7a1ee-5e22-4823-a6f9-c3393f79271e');\n",
              "        const dataTable =\n",
              "          await google.colab.kernel.invokeFunction('convertToInteractive',\n",
              "                                                    [key], {});\n",
              "        if (!dataTable) return;\n",
              "\n",
              "        const docLinkHtml = 'Like what you see? Visit the ' +\n",
              "          '<a target=\"_blank\" href=https://colab.research.google.com/notebooks/data_table.ipynb>data table notebook</a>'\n",
              "          + ' to learn more about interactive tables.';\n",
              "        element.innerHTML = '';\n",
              "        dataTable['output_type'] = 'display_data';\n",
              "        await google.colab.output.renderOutput(dataTable, element);\n",
              "        const docLink = document.createElement('div');\n",
              "        docLink.innerHTML = docLinkHtml;\n",
              "        element.appendChild(docLink);\n",
              "      }\n",
              "    </script>\n",
              "  </div>\n",
              "\n",
              "\n",
              "<div id=\"df-469a305e-7c14-433a-831b-390fa28e0ca7\">\n",
              "  <button class=\"colab-df-quickchart\" onclick=\"quickchart('df-469a305e-7c14-433a-831b-390fa28e0ca7')\"\n",
              "            title=\"Suggest charts\"\n",
              "            style=\"display:none;\">\n",
              "\n",
              "<svg xmlns=\"http://www.w3.org/2000/svg\" height=\"24px\"viewBox=\"0 0 24 24\"\n",
              "     width=\"24px\">\n",
              "    <g>\n",
              "        <path d=\"M19 3H5c-1.1 0-2 .9-2 2v14c0 1.1.9 2 2 2h14c1.1 0 2-.9 2-2V5c0-1.1-.9-2-2-2zM9 17H7v-7h2v7zm4 0h-2V7h2v10zm4 0h-2v-4h2v4z\"/>\n",
              "    </g>\n",
              "</svg>\n",
              "  </button>\n",
              "\n",
              "<style>\n",
              "  .colab-df-quickchart {\n",
              "      --bg-color: #E8F0FE;\n",
              "      --fill-color: #1967D2;\n",
              "      --hover-bg-color: #E2EBFA;\n",
              "      --hover-fill-color: #174EA6;\n",
              "      --disabled-fill-color: #AAA;\n",
              "      --disabled-bg-color: #DDD;\n",
              "  }\n",
              "\n",
              "  [theme=dark] .colab-df-quickchart {\n",
              "      --bg-color: #3B4455;\n",
              "      --fill-color: #D2E3FC;\n",
              "      --hover-bg-color: #434B5C;\n",
              "      --hover-fill-color: #FFFFFF;\n",
              "      --disabled-bg-color: #3B4455;\n",
              "      --disabled-fill-color: #666;\n",
              "  }\n",
              "\n",
              "  .colab-df-quickchart {\n",
              "    background-color: var(--bg-color);\n",
              "    border: none;\n",
              "    border-radius: 50%;\n",
              "    cursor: pointer;\n",
              "    display: none;\n",
              "    fill: var(--fill-color);\n",
              "    height: 32px;\n",
              "    padding: 0;\n",
              "    width: 32px;\n",
              "  }\n",
              "\n",
              "  .colab-df-quickchart:hover {\n",
              "    background-color: var(--hover-bg-color);\n",
              "    box-shadow: 0 1px 2px rgba(60, 64, 67, 0.3), 0 1px 3px 1px rgba(60, 64, 67, 0.15);\n",
              "    fill: var(--button-hover-fill-color);\n",
              "  }\n",
              "\n",
              "  .colab-df-quickchart-complete:disabled,\n",
              "  .colab-df-quickchart-complete:disabled:hover {\n",
              "    background-color: var(--disabled-bg-color);\n",
              "    fill: var(--disabled-fill-color);\n",
              "    box-shadow: none;\n",
              "  }\n",
              "\n",
              "  .colab-df-spinner {\n",
              "    border: 2px solid var(--fill-color);\n",
              "    border-color: transparent;\n",
              "    border-bottom-color: var(--fill-color);\n",
              "    animation:\n",
              "      spin 1s steps(1) infinite;\n",
              "  }\n",
              "\n",
              "  @keyframes spin {\n",
              "    0% {\n",
              "      border-color: transparent;\n",
              "      border-bottom-color: var(--fill-color);\n",
              "      border-left-color: var(--fill-color);\n",
              "    }\n",
              "    20% {\n",
              "      border-color: transparent;\n",
              "      border-left-color: var(--fill-color);\n",
              "      border-top-color: var(--fill-color);\n",
              "    }\n",
              "    30% {\n",
              "      border-color: transparent;\n",
              "      border-left-color: var(--fill-color);\n",
              "      border-top-color: var(--fill-color);\n",
              "      border-right-color: var(--fill-color);\n",
              "    }\n",
              "    40% {\n",
              "      border-color: transparent;\n",
              "      border-right-color: var(--fill-color);\n",
              "      border-top-color: var(--fill-color);\n",
              "    }\n",
              "    60% {\n",
              "      border-color: transparent;\n",
              "      border-right-color: var(--fill-color);\n",
              "    }\n",
              "    80% {\n",
              "      border-color: transparent;\n",
              "      border-right-color: var(--fill-color);\n",
              "      border-bottom-color: var(--fill-color);\n",
              "    }\n",
              "    90% {\n",
              "      border-color: transparent;\n",
              "      border-bottom-color: var(--fill-color);\n",
              "    }\n",
              "  }\n",
              "</style>\n",
              "\n",
              "  <script>\n",
              "    async function quickchart(key) {\n",
              "      const quickchartButtonEl =\n",
              "        document.querySelector('#' + key + ' button');\n",
              "      quickchartButtonEl.disabled = true;  // To prevent multiple clicks.\n",
              "      quickchartButtonEl.classList.add('colab-df-spinner');\n",
              "      try {\n",
              "        const charts = await google.colab.kernel.invokeFunction(\n",
              "            'suggestCharts', [key], {});\n",
              "      } catch (error) {\n",
              "        console.error('Error during call to suggestCharts:', error);\n",
              "      }\n",
              "      quickchartButtonEl.classList.remove('colab-df-spinner');\n",
              "      quickchartButtonEl.classList.add('colab-df-quickchart-complete');\n",
              "    }\n",
              "    (() => {\n",
              "      let quickchartButtonEl =\n",
              "        document.querySelector('#df-469a305e-7c14-433a-831b-390fa28e0ca7 button');\n",
              "      quickchartButtonEl.style.display =\n",
              "        google.colab.kernel.accessAllowed ? 'block' : 'none';\n",
              "    })();\n",
              "  </script>\n",
              "</div>\n",
              "\n",
              "  <div id=\"id_76c1e658-e1d8-4c68-acdc-caf48932abb4\">\n",
              "    <style>\n",
              "      .colab-df-generate {\n",
              "        background-color: #E8F0FE;\n",
              "        border: none;\n",
              "        border-radius: 50%;\n",
              "        cursor: pointer;\n",
              "        display: none;\n",
              "        fill: #1967D2;\n",
              "        height: 32px;\n",
              "        padding: 0 0 0 0;\n",
              "        width: 32px;\n",
              "      }\n",
              "\n",
              "      .colab-df-generate:hover {\n",
              "        background-color: #E2EBFA;\n",
              "        box-shadow: 0px 1px 2px rgba(60, 64, 67, 0.3), 0px 1px 3px 1px rgba(60, 64, 67, 0.15);\n",
              "        fill: #174EA6;\n",
              "      }\n",
              "\n",
              "      [theme=dark] .colab-df-generate {\n",
              "        background-color: #3B4455;\n",
              "        fill: #D2E3FC;\n",
              "      }\n",
              "\n",
              "      [theme=dark] .colab-df-generate:hover {\n",
              "        background-color: #434B5C;\n",
              "        box-shadow: 0px 1px 3px 1px rgba(0, 0, 0, 0.15);\n",
              "        filter: drop-shadow(0px 1px 2px rgba(0, 0, 0, 0.3));\n",
              "        fill: #FFFFFF;\n",
              "      }\n",
              "    </style>\n",
              "    <button class=\"colab-df-generate\" onclick=\"generateWithVariable('nifty')\"\n",
              "            title=\"Generate code using this dataframe.\"\n",
              "            style=\"display:none;\">\n",
              "\n",
              "  <svg xmlns=\"http://www.w3.org/2000/svg\" height=\"24px\"viewBox=\"0 0 24 24\"\n",
              "       width=\"24px\">\n",
              "    <path d=\"M7,19H8.4L18.45,9,17,7.55,7,17.6ZM5,21V16.75L18.45,3.32a2,2,0,0,1,2.83,0l1.4,1.43a1.91,1.91,0,0,1,.58,1.4,1.91,1.91,0,0,1-.58,1.4L9.25,21ZM18.45,9,17,7.55Zm-12,3A5.31,5.31,0,0,0,4.9,8.1,5.31,5.31,0,0,0,1,6.5,5.31,5.31,0,0,0,4.9,4.9,5.31,5.31,0,0,0,6.5,1,5.31,5.31,0,0,0,8.1,4.9,5.31,5.31,0,0,0,12,6.5,5.46,5.46,0,0,0,6.5,12Z\"/>\n",
              "  </svg>\n",
              "    </button>\n",
              "    <script>\n",
              "      (() => {\n",
              "      const buttonEl =\n",
              "        document.querySelector('#id_76c1e658-e1d8-4c68-acdc-caf48932abb4 button.colab-df-generate');\n",
              "      buttonEl.style.display =\n",
              "        google.colab.kernel.accessAllowed ? 'block' : 'none';\n",
              "\n",
              "      buttonEl.onclick = () => {\n",
              "        google.colab.notebook.generateWithVariable('nifty');\n",
              "      }\n",
              "      })();\n",
              "    </script>\n",
              "  </div>\n",
              "\n",
              "    </div>\n",
              "  </div>\n"
            ],
            "application/vnd.google.colaboratory.intrinsic+json": {
              "type": "dataframe",
              "variable_name": "nifty"
            }
          },
          "metadata": {},
          "execution_count": 13
        }
      ],
      "source": [
        "# Calculating technical indicators using pandas_ta\n",
        "nifty=data(\"^NSEI\")\n",
        "nifty['SMA_10'] = ta.sma(nifty['Close'], length=10)\n",
        "nifty['EMA_10'] = ta.ema(nifty['Close'], length=10)\n",
        "nifty['RSI_14'] = ta.rsi(nifty['Close'], length=14)\n",
        "macd = ta.macd(nifty['Close'])\n",
        "nifty['MACD'] = macd['MACD_12_26_9']\n",
        "nifty['MACD_signal'] = macd['MACDs_12_26_9']\n",
        "nifty['MACD_hist'] = macd['MACDh_12_26_9']\n",
        "nifty['ATR'] = ta.atr(nifty['High'], nifty['Low'], nifty['Close'], length=14)\n",
        "nifty['OBV'] = ta.obv(nifty['Close'], nifty['Volume'])\n",
        "bbands = ta.bbands(nifty['Close'], length=20)\n",
        "nifty['Upper_BB'] = bbands['BBU_20_2.0']\n",
        "nifty['Middle_BB'] = bbands['BBM_20_2.0']\n",
        "nifty['Lower_BB'] = bbands['BBL_20_2.0']\n",
        "\n",
        "# Lagged features (kind of last five rows to predict the next row)\n",
        "for lag in range(1, 10):  # Example: 1 to 5 days lag\n",
        "    # lag-=1\n",
        "    nifty[f'Close_t-{lag}'] = nifty['Close'].shift(lag)\n",
        "    nifty[f'Open_t-{lag}'] = nifty['Open'].shift(lag)\n",
        "    nifty[f'High_t-{lag}'] = nifty['High'].shift(lag)\n",
        "    nifty[f'Low_t-{lag}'] = nifty['Low'].shift(lag)\n",
        "    nifty[f'Volume_t-{lag}'] = nifty['Volume'].shift(lag)\n",
        "\n",
        "# NaN values will be obviously generated by shifting\n",
        "nifty = nifty.dropna()\n",
        "\n",
        "nifty"
      ],
      "id": "Y_ho1VDM2wvJ"
    },
    {
      "cell_type": "markdown",
      "metadata": {
        "id": "7EKWiMUz4c7v"
      },
      "source": [
        "Lets firstly define all of these things features...later we will find which ones are more important(or all of them are :)\n"
      ],
      "id": "7EKWiMUz4c7v"
    },
    {
      "cell_type": "code",
      "execution_count": 15,
      "metadata": {
        "collapsed": true,
        "execution": {
          "iopub.execute_input": "2024-07-18T08:59:15.241064Z",
          "iopub.status.busy": "2024-07-18T08:59:15.240651Z",
          "iopub.status.idle": "2024-07-18T08:59:15.251934Z",
          "shell.execute_reply": "2024-07-18T08:59:15.250520Z",
          "shell.execute_reply.started": "2024-07-18T08:59:15.241015Z"
        },
        "id": "S-IhUPep4Qmh",
        "jupyter": {
          "outputs_hidden": true
        },
        "trusted": true
      },
      "outputs": [],
      "source": [
        "# Defining self-customized sets of features and target variable\n",
        "featuresl = [\n",
        "    'Close_t-1', 'Close_t-2', 'Close_t-3', 'Close_t-4', 'Close_t-5',\n",
        "    'Open_t-1', 'High_t-1', 'Low_t-1', 'Volume_t-1',\n",
        "    'SMA_10', 'EMA_10', 'RSI_14', 'MACD', 'MACD_signal', 'MACD_hist',\n",
        "    'ATR', 'OBV', 'Upper_BB', 'Middle_BB', 'Lower_BB',\n",
        "]\n",
        "featuresq =['SMA_10', 'EMA_10', 'RSI_14', 'MACD', 'MACD_signal', 'MACD_hist',\n",
        "    'ATR', 'OBV', 'Upper_BB', 'Middle_BB', 'Lower_BB','Open','High','Low','Close','Volume']  ##without lagged features\n",
        "featuresw =['SMA_10', 'EMA_10', 'RSI_14', 'MACD', 'MACD_signal','Middle_BB','Open','Close','Volume']  ##without lagged feature..just another"
      ],
      "id": "S-IhUPep4Qmh"
    },
    {
      "cell_type": "code",
      "source": [
        "# Defining set of all lagged features\n",
        "lagged_features = [f'Close_t-{i}' for i in range(1, 10)] + [f'Open_t-{i}' for i in range(1, 10)] + [f'Volume_t-{i}' for i in range(1, 10)]\n",
        "\n",
        "# Combine all features\n",
        "all_features = featuresq + lagged_features\n",
        "X=nifty[all_features]\n",
        "y = nifty['Target']  # Binary target: 0 for price decrease, 1 for price increase"
      ],
      "metadata": {
        "id": "j0jA8aoPmjdw"
      },
      "id": "j0jA8aoPmjdw",
      "execution_count": 19,
      "outputs": []
    },
    {
      "cell_type": "code",
      "source": [
        "#Lets split the data for training and testing, maintaining the temporal order\n",
        "def split_data(X, y):\n",
        "  train_size = int(len(X) * 0.99)\n",
        "  start_size=int(len(X)*0.85)\n",
        "  X_train, X_test = X[start_size:train_size], X[train_size:]\n",
        "  y_train, y_test = y[start_size:train_size], y[train_size:]\n",
        "  return X_train, X_test, y_train, y_test"
      ],
      "metadata": {
        "id": "d8MVJ2BqqAgY"
      },
      "id": "d8MVJ2BqqAgY",
      "execution_count": 29,
      "outputs": []
    },
    {
      "cell_type": "code",
      "source": [
        "X_train, X_test, y_train, y_test = split_data(X, y)"
      ],
      "metadata": {
        "id": "61HYSU_3qcUS"
      },
      "id": "61HYSU_3qcUS",
      "execution_count": 30,
      "outputs": []
    },
    {
      "cell_type": "markdown",
      "metadata": {
        "id": "D5bMSeEx493Z"
      },
      "source": [
        "Lets now build the model, using same parameters(later will tune them too) :"
      ],
      "id": "D5bMSeEx493Z"
    },
    {
      "cell_type": "code",
      "execution_count": 37,
      "metadata": {
        "colab": {
          "base_uri": "https://localhost:8080/"
        },
        "collapsed": true,
        "execution": {
          "iopub.execute_input": "2024-07-18T09:02:12.517645Z",
          "iopub.status.busy": "2024-07-18T09:02:12.517091Z",
          "iopub.status.idle": "2024-07-18T09:02:17.072907Z",
          "shell.execute_reply": "2024-07-18T09:02:17.071706Z",
          "shell.execute_reply.started": "2024-07-18T09:02:12.517600Z"
        },
        "id": "0ybSzRPl-LRh",
        "jupyter": {
          "outputs_hidden": true
        },
        "outputId": "206378ea-2700-4ff2-e5d5-d55f072e54bd",
        "trusted": true
      },
      "outputs": [
        {
          "output_type": "stream",
          "name": "stdout",
          "text": [
            "Importance of each feature : [0.11489518 0.11749081 0.10753119 0.09195677 0.0955521  0.101752\n",
            " 0.10175859 0.09072845 0.09539233 0.08294258]\n",
            "Relative importance of each feature with respect to the minimum [1.38523765 1.41653191 1.2964535  1.10867997 1.15202711 1.22677642\n",
            " 1.22685588 1.09387067 1.15010089 1.        ]\n",
            "Accuracy Score 0.9748603351955307\n"
          ]
        }
      ],
      "source": [
        "# Train-test split while maintaining the temporal order\n",
        "def train_model():\n",
        "\n",
        "  model = RandomForestClassifier(n_estimators=500, min_samples_split=15, random_state=6,min_samples_leaf=1,n_jobs=-1)\n",
        "  model.fit(X_train, y_train)\n",
        "  #Training set results\n",
        "  prediction = model.predict(X_train)\n",
        "  prediction = pd.Series(prediction, index=X_train.index)\n",
        "  df=pd.concat([y_train, prediction], axis=1)\n",
        "  # display(df)\n",
        "  print(\"Accuracy Score\",accuracy_score(y_train, prediction))\n",
        "  return model\n",
        "print(\"Importance of each feature :\", model.feature_importances_)\n",
        "print(\"Relative importance of each feature with respect to the minimum\", model.feature_importances_ / model.feature_importances_.min())\n",
        "model=train_model()"
      ],
      "id": "0ybSzRPl-LRh"
    },
    {
      "cell_type": "code",
      "execution_count": 38,
      "metadata": {
        "colab": {
          "base_uri": "https://localhost:8080/"
        },
        "collapsed": true,
        "execution": {
          "iopub.execute_input": "2024-07-18T09:02:24.065452Z",
          "iopub.status.busy": "2024-07-18T09:02:24.064883Z",
          "iopub.status.idle": "2024-07-18T09:02:24.201185Z",
          "shell.execute_reply": "2024-07-18T09:02:24.200087Z",
          "shell.execute_reply.started": "2024-07-18T09:02:24.065408Z"
        },
        "id": "B8YHhS0t_VSY",
        "jupyter": {
          "outputs_hidden": true
        },
        "outputId": "a6071d89-097f-4719-80dd-8306f798f604",
        "trusted": true
      },
      "outputs": [
        {
          "output_type": "stream",
          "name": "stdout",
          "text": [
            "Accuracy Score 0.4230769230769231\n"
          ]
        }
      ],
      "source": [
        "#Testing set results\n",
        "prediction = model.predict(X_test)\n",
        "prediction = pd.Series(prediction, index=X_test.index)\n",
        "df=pd.concat([y_test, prediction], axis=1)\n",
        "# display(df)\n",
        "print(\"Accuracy Score\",accuracy_score(y_test, prediction))"
      ],
      "id": "B8YHhS0t_VSY"
    },
    {
      "cell_type": "code",
      "source": [
        "#Lets select the top 5 features according to feature_importance and train on that\n",
        "# Getting the feature importances\n",
        "importances = model.feature_importances_\n",
        "imp_features = pd.DataFrame({'Feature': X.columns, 'Importance': importances})\n",
        "imp_features = imp_features.sort_values(by='Importance', ascending=False)"
      ],
      "metadata": {
        "id": "nj6_DS7hoKqb"
      },
      "id": "nj6_DS7hoKqb",
      "execution_count": 46,
      "outputs": []
    },
    {
      "cell_type": "code",
      "source": [
        "\n",
        "# Selecting the top n features\n",
        "n = 25\n",
        "top_features = imp_features.head(n)['Feature'].tolist()"
      ],
      "metadata": {
        "id": "CsuDyJSPo2Xa"
      },
      "id": "CsuDyJSPo2Xa",
      "execution_count": 41,
      "outputs": []
    },
    {
      "cell_type": "code",
      "source": [
        "#Lets now train the model on that\n",
        "X=nifty[top_features]\n",
        "y = nifty['Target']  # Binary target: 0 for price decrease, 1 for price increase"
      ],
      "metadata": {
        "id": "DCVDwwI2pP-S"
      },
      "id": "DCVDwwI2pP-S",
      "execution_count": 42,
      "outputs": []
    },
    {
      "cell_type": "code",
      "source": [
        "#Lets set the data\n",
        "X_train, X_test, y_train, y_test = split_data(X, y)"
      ],
      "metadata": {
        "id": "hlmCOa9cnHD1"
      },
      "id": "hlmCOa9cnHD1",
      "execution_count": 43,
      "outputs": []
    },
    {
      "cell_type": "code",
      "source": [
        "#Now model training\n",
        "model=train_model()"
      ],
      "metadata": {
        "id": "cf0H6Z20qt47",
        "outputId": "63ab48fc-d8cd-4155-9035-ed1b5d45126c",
        "colab": {
          "base_uri": "https://localhost:8080/"
        }
      },
      "id": "cf0H6Z20qt47",
      "execution_count": 44,
      "outputs": [
        {
          "output_type": "stream",
          "name": "stdout",
          "text": [
            "Accuracy Score 0.9916201117318436\n"
          ]
        }
      ]
    },
    {
      "cell_type": "code",
      "source": [
        "#Testing set results\n",
        "prediction = model.predict(X_test)\n",
        "prediction = pd.Series(prediction, index=X_test.index)\n",
        "df=pd.concat([y_test, prediction], axis=1)\n",
        "# display(df)\n",
        "print(\"Test Accuracy Score\",accuracy_score(y_test, prediction))"
      ],
      "metadata": {
        "id": "QwJZiAwurHEP",
        "outputId": "5f1f552f-4afa-41b9-86ad-f0c090b23433",
        "colab": {
          "base_uri": "https://localhost:8080/"
        }
      },
      "id": "QwJZiAwurHEP",
      "execution_count": 45,
      "outputs": [
        {
          "output_type": "stream",
          "name": "stdout",
          "text": [
            "Test Accuracy Score 0.6153846153846154\n"
          ]
        }
      ]
    },
    {
      "cell_type": "markdown",
      "source": [
        "Clearly we are getting accuracy around 60 percent. Now lets split the data of 10 years into 8-10 parts and train and test the model on each part."
      ],
      "metadata": {
        "id": "E_-hcdg1Ac1K"
      },
      "id": "E_-hcdg1Ac1K"
    },
    {
      "cell_type": "code",
      "source": [
        "#Data\n",
        "X=nifty[all_features]\n",
        "y = nifty['Target']  # Binary target: 0 for price decrease, 1 for price increase"
      ],
      "metadata": {
        "id": "MLuPd_SY2SXa"
      },
      "id": "MLuPd_SY2SXa",
      "execution_count": 155,
      "outputs": []
    },
    {
      "cell_type": "code",
      "source": [
        "#Lets now divide the data into sequences each of length n, where first a days in the sequence will be used for training and n-a for testing\n",
        "#Then model will be trained one by one on each sequence\n",
        "n=400\n",
        "a=350\n",
        "X_train, X_test, y_train, y_test = [], [], [], []\n",
        "for i in range(len(X)//n):\n",
        "    start=i*n\n",
        "    end=start+n\n",
        "    if end>+len(X):\n",
        "        break\n",
        "    X_train.append(X.iloc[start:start+a])\n",
        "    X_test.append(X.iloc[start+a:end])\n",
        "    y_train.append(y.iloc[start:start+a])\n",
        "    y_test.append(y.iloc[start+a:end])\n",
        "\n"
      ],
      "metadata": {
        "id": "40QY-X9GrgHv"
      },
      "id": "40QY-X9GrgHv",
      "execution_count": 156,
      "outputs": []
    },
    {
      "cell_type": "code",
      "source": [
        "len(X_train)  ##No of parts"
      ],
      "metadata": {
        "id": "z4u30QV6491r",
        "outputId": "508a2076-b2c6-415d-ab4d-d92e71c9ad27",
        "colab": {
          "base_uri": "https://localhost:8080/"
        }
      },
      "id": "z4u30QV6491r",
      "execution_count": 157,
      "outputs": [
        {
          "output_type": "execute_result",
          "data": {
            "text/plain": [
              "6"
            ]
          },
          "metadata": {},
          "execution_count": 157
        }
      ]
    },
    {
      "cell_type": "code",
      "source": [
        "model3=RandomForestClassifier(n_estimators=500, min_samples_split=19, random_state=6,min_samples_leaf=1, max_features=25,n_jobs=-1)\n",
        "results=pd.DataFrame()\n",
        "\n",
        "model3_train_scores=[]\n",
        "model3_test_scores=[]\n",
        "print(\"Accuracy scores\")\n",
        "for i in range(len(X_train)):\n",
        "    model3.fit(X_train[i], y_train[i])\n",
        "    model3_train_scores.append(model3.score(X_train[i], y_train[i]))\n",
        "    model3_test_scores.append(model3.score(X_test[i], y_test[i]))\n",
        "    prediction = model3.predict(X_test[i])\n",
        "    prediction = pd.Series(prediction, index=X_test[i].index)\n",
        "    results=pd.concat([y_test[i], prediction], axis=1)\n",
        "    results.columns=['Actual','Predicted']\n",
        "    accuracy = accuracy_score(y_test[i], prediction)\n",
        "    print(f\"Iteration {i}: Testing Accuracy = {accuracy:.4f}\",\"Training Score:\",model3.score(X_train[i], y_train[i]))\n",
        "\n",
        ""
      ],
      "metadata": {
        "id": "Lc_GMfZh0IlK",
        "outputId": "ae71038b-e551-41c2-8006-ff20274c5ee6",
        "colab": {
          "base_uri": "https://localhost:8080/"
        }
      },
      "id": "Lc_GMfZh0IlK",
      "execution_count": 160,
      "outputs": [
        {
          "output_type": "stream",
          "name": "stdout",
          "text": [
            "Accuracy scores\n",
            "Iteration 0: Testing Accuracy = 0.5600 Training Score: 0.9857142857142858\n",
            "Iteration 1: Testing Accuracy = 0.6400 Training Score: 0.9828571428571429\n",
            "Iteration 2: Testing Accuracy = 0.5000 Training Score: 0.9857142857142858\n",
            "Iteration 3: Testing Accuracy = 0.4800 Training Score: 0.9885714285714285\n",
            "Iteration 4: Testing Accuracy = 0.6800 Training Score: 0.9771428571428571\n",
            "Iteration 5: Testing Accuracy = 0.6200 Training Score: 0.9828571428571429\n"
          ]
        }
      ]
    },
    {
      "cell_type": "code",
      "source": [
        "#Lets see the mean performance on the test sets\n",
        "print(\"Mean training score:\",np.mean(model3_train_scores))\n",
        "print(\"Mean testing score:\",np.mean(model3_test_scores))"
      ],
      "metadata": {
        "id": "0-M7LE9m9Syb",
        "outputId": "f5e76b39-5d4b-4063-ba1e-9bff5af39351",
        "colab": {
          "base_uri": "https://localhost:8080/"
        }
      },
      "id": "0-M7LE9m9Syb",
      "execution_count": 159,
      "outputs": [
        {
          "output_type": "stream",
          "name": "stdout",
          "text": [
            "Mean training score: 0.9838095238095238\n",
            "Mean testing score: 0.5800000000000001\n"
          ]
        }
      ]
    },
    {
      "cell_type": "markdown",
      "source": [
        "I have found above maximum accuracy at 19 min sample split and 500 estimators.\n"
      ],
      "metadata": {
        "id": "j5J_zr0q-h0f"
      },
      "id": "j5J_zr0q-h0f"
    },
    {
      "cell_type": "markdown",
      "metadata": {
        "id": "KBlI1afSGbxp"
      },
      "source": [
        "Now parameter tuning:\n"
      ],
      "id": "KBlI1afSGbxp"
    },
    {
      "cell_type": "code",
      "execution_count": null,
      "metadata": {
        "execution": {
          "iopub.execute_input": "2024-07-18T09:05:28.195683Z",
          "iopub.status.busy": "2024-07-18T09:05:28.195200Z",
          "iopub.status.idle": "2024-07-18T09:06:29.037297Z",
          "shell.execute_reply": "2024-07-18T09:06:29.036081Z",
          "shell.execute_reply.started": "2024-07-18T09:05:28.195650Z"
        },
        "jupyter": {
          "outputs_hidden": true
        },
        "trusted": true,
        "id": "vdfuArt88CAz"
      },
      "outputs": [],
      "source": [
        "from sklearn.feature_selection import RFE\n",
        "from sklearn.model_selection import TimeSeriesSplit, GridSearchCV\n",
        "from sklearn.preprocessing import StandardScaler\n",
        "from sklearn.metrics import accuracy_score\n",
        "\n",
        "# Define lagged features and technical indicators\n",
        "lagged_features = [f'Close_t-{i}' for i in range(1, 10)] + [f'Open_t-{i}' for i in range(1, 10)] + [f'Volume_t-{i}' for i in range(1, 10)]\n",
        "featuresq = ['SMA_10', 'EMA_10', 'RSI_14', 'MACD', 'MACD_signal', 'MACD_hist',\n",
        "    'ATR', 'OBV', 'Upper_BB', 'Middle_BB', 'Lower_BB', 'Open', 'High', 'Low', 'Close', 'Volume']\n",
        "\n",
        "# Combine all features\n",
        "all_features = featuresq + lagged_features\n",
        "\n",
        "# Feature normalization\n",
        "scaler = StandardScaler()\n",
        "nifty[all_features] = scaler.fit_transform(nifty[all_features])\n",
        "\n",
        "# Prepare your features and target\n",
        "X = nifty[all_features]\n",
        "y = nifty['Target']  # replace with your actual target column\n",
        "\n",
        "# Initialize the Random Forest model\n",
        "rf = RandomForestClassifier(n_estimators=200, random_state=42)\n",
        "\n",
        "# Perform RFE\n",
        "rfe = RFE(estimator=rf, n_features_to_select=12)  # Adjust 'n_features_to_select' as needed\n",
        "rfe.fit(X, y)\n",
        "\n",
        "# Get the selected features\n",
        "selected_features = [feature for feature, selected in zip(all_features, rfe.support_) if selected]\n",
        "print(f'Selected Features: {selected_features}')\n",
        "\n",
        "# Use only the selected features\n",
        "X_selected = nifty[selected_features]"
      ],
      "id": "vdfuArt88CAz"
    },
    {
      "cell_type": "code",
      "execution_count": null,
      "metadata": {
        "execution": {
          "iopub.execute_input": "2024-07-18T10:55:16.874657Z",
          "iopub.status.busy": "2024-07-18T10:55:16.874234Z",
          "iopub.status.idle": "2024-07-18T10:55:19.394825Z",
          "shell.execute_reply": "2024-07-18T10:55:19.393682Z",
          "shell.execute_reply.started": "2024-07-18T10:55:16.874623Z"
        },
        "trusted": true,
        "id": "LjOpB0z38CA0",
        "outputId": "25abad73-977f-4db5-8e0c-96efd6cfe1e2"
      },
      "outputs": [
        {
          "name": "stdout",
          "output_type": "stream",
          "text": [
            "Test Accuracy: 0.56\n",
            "Test Accuracy: 0.5294117647058824\n",
            "Test Accuracy: 0.5129411764705882\n",
            "Test Accuracy: 0.52\n",
            "Test Accuracy: 0.5247058823529411\n",
            "Mean accuracy: 0.5294117647058822\n"
          ]
        }
      ],
      "source": [
        "# Time Series Split\n",
        "tscv = TimeSeriesSplit(n_splits=5)\n",
        "acc=[]\n",
        "for train_index, test_index in tscv.split(X_selected):\n",
        "    X_train, X_test = X_selected.iloc[train_index], X_selected.iloc[test_index]\n",
        "    y_train, y_test = y.iloc[train_index], y.iloc[test_index]\n",
        "\n",
        "    # Train the model\n",
        "    model = RandomForestClassifier(n_estimators=100, max_depth=10, max_features='sqrt', min_samples_split=10, min_samples_leaf=2,  random_state=42,n_jobs=-1)\n",
        "    # Get probabilities on training set\n",
        "    model.fit(X_train,y_train)\n",
        "#     y_proba_train = model.predict_proba(X_train)\n",
        "\n",
        "#     # Set custom threshold\n",
        "#     threshold = 0.7\n",
        "#     y_pred_train = (y_proba_train[:, 1] > threshold).astype(int)\n",
        "\n",
        "#     # Fit the model with adjusted predictions\n",
        "#     model.fit(X_train, y_pred_train)\n",
        "\n",
        "    # Predict probabilities\n",
        "    y_proba = model.predict_proba(X_test)\n",
        "\n",
        "    # Set custom threshold\n",
        "    threshold = 0.55\n",
        "    y_pred = (y_proba[:, 1] > threshold).astype(int)\n",
        "    accuracy = accuracy_score(y_test, y_pred)\n",
        "    acc.append(accuracy)\n",
        "    print(f'Test Accuracy: {accuracy}')\n",
        "mean_Acc=np.mean(acc)\n",
        "print(f'Mean accuracy: {mean_Acc}')"
      ],
      "id": "LjOpB0z38CA0"
    },
    {
      "cell_type": "code",
      "execution_count": null,
      "metadata": {
        "execution": {
          "iopub.execute_input": "2024-07-18T09:36:45.682942Z",
          "iopub.status.busy": "2024-07-18T09:36:45.682480Z",
          "iopub.status.idle": "2024-07-18T10:13:55.853426Z",
          "shell.execute_reply": "2024-07-18T10:13:55.851587Z",
          "shell.execute_reply.started": "2024-07-18T09:36:45.682901Z"
        },
        "trusted": true,
        "id": "mtfbgtkN8CA0",
        "outputId": "b2a6b1b4-052b-4bc9-97be-3940d11ce11e"
      },
      "outputs": [
        {
          "name": "stdout",
          "output_type": "stream",
          "text": [
            "Best Parameters: {'max_depth': 10, 'max_features': 'sqrt', 'min_samples_leaf': 2, 'min_samples_split': 10, 'n_estimators': 50}\n"
          ]
        }
      ],
      "source": [
        "# Hyperparameter tuning\n",
        "param_grid = {\n",
        "    'n_estimators': [50,100, 200, 300],\n",
        "    'max_depth': [6,10, 20],\n",
        "    'min_samples_split': [2, 5, 10,15],\n",
        "    'min_samples_leaf': [1, 2, 3],\n",
        "    'max_features': ['sqrt', 'log2']\n",
        "}\n",
        "\n",
        "grid_search = GridSearchCV(estimator=RandomForestClassifier(random_state=42),\n",
        "                           param_grid=param_grid, cv=tscv, n_jobs=-1, scoring='accuracy')\n",
        "grid_search.fit(X_selected, y)\n",
        "print(f'Best Parameters: {grid_search.best_params_}')"
      ],
      "id": "mtfbgtkN8CA0"
    },
    {
      "cell_type": "code",
      "execution_count": null,
      "metadata": {
        "collapsed": true,
        "execution": {
          "iopub.status.busy": "2024-07-18T08:59:39.748475Z",
          "iopub.status.idle": "2024-07-18T08:59:39.748920Z",
          "shell.execute_reply": "2024-07-18T08:59:39.748729Z",
          "shell.execute_reply.started": "2024-07-18T08:59:39.748711Z"
        },
        "id": "d4049497-0ee7-4399-83ab-ef61ccf71133",
        "jupyter": {
          "outputs_hidden": true
        },
        "trusted": true
      },
      "outputs": [],
      "source": [
        "def predict(train, test, predictors, model):\n",
        "    model.fit(train[predictors], train[\"Target\"])\n",
        "    preds = model.predict(test[predictors])\n",
        "    preds = pd.Series(preds, index=test.index, name=\"Predictions\")\n",
        "    combined = pd.concat([test[\"Target\"], preds], axis=1)\n",
        "    return combined"
      ],
      "id": "d4049497-0ee7-4399-83ab-ef61ccf71133"
    },
    {
      "cell_type": "code",
      "execution_count": null,
      "metadata": {
        "collapsed": true,
        "execution": {
          "iopub.status.busy": "2024-07-18T08:59:39.750731Z",
          "iopub.status.idle": "2024-07-18T08:59:39.751337Z",
          "shell.execute_reply": "2024-07-18T08:59:39.751064Z",
          "shell.execute_reply.started": "2024-07-18T08:59:39.751019Z"
        },
        "id": "ca97d93a-6841-49ef-8f91-25a713baef16",
        "jupyter": {
          "outputs_hidden": true
        },
        "trusted": true
      },
      "outputs": [],
      "source": [
        "def backtest(data, model, predictors, start=2500, step=250):\n",
        "    all_predictions = []\n",
        "\n",
        "    for i in range(start, data.shape[0], step):\n",
        "        train = data.iloc[0:i].copy()\n",
        "        test = data.iloc[i:(i+step)].copy()\n",
        "        predictions = predict(train, test, predictors, model)\n",
        "        all_predictions.append(predictions)\n",
        "\n",
        "    return pd.concat(all_predictions)"
      ],
      "id": "ca97d93a-6841-49ef-8f91-25a713baef16"
    },
    {
      "cell_type": "code",
      "execution_count": null,
      "metadata": {
        "collapsed": true,
        "execution": {
          "iopub.status.busy": "2024-07-18T08:59:39.752910Z",
          "iopub.status.idle": "2024-07-18T08:59:39.753491Z",
          "shell.execute_reply": "2024-07-18T08:59:39.753235Z",
          "shell.execute_reply.started": "2024-07-18T08:59:39.753210Z"
        },
        "id": "8a75261f-d2de-4bc6-9364-54d520c63985",
        "jupyter": {
          "outputs_hidden": true
        },
        "trusted": true
      },
      "outputs": [],
      "source": [
        "predictions = backtest(nifty, model, predictors)"
      ],
      "id": "8a75261f-d2de-4bc6-9364-54d520c63985"
    },
    {
      "cell_type": "code",
      "execution_count": null,
      "metadata": {
        "collapsed": true,
        "execution": {
          "iopub.status.busy": "2024-07-18T08:59:39.755426Z",
          "iopub.status.idle": "2024-07-18T08:59:39.755977Z",
          "shell.execute_reply": "2024-07-18T08:59:39.755716Z",
          "shell.execute_reply.started": "2024-07-18T08:59:39.755694Z"
        },
        "id": "439d8704-c55d-4d1f-a709-acdc0f485e87",
        "jupyter": {
          "outputs_hidden": true
        },
        "trusted": true
      },
      "outputs": [],
      "source": [
        "predictions[\"Predictions\"].value_counts()"
      ],
      "id": "439d8704-c55d-4d1f-a709-acdc0f485e87"
    },
    {
      "cell_type": "code",
      "execution_count": null,
      "metadata": {
        "collapsed": true,
        "execution": {
          "iopub.status.busy": "2024-07-18T08:59:39.757748Z",
          "iopub.status.idle": "2024-07-18T08:59:39.758342Z",
          "shell.execute_reply": "2024-07-18T08:59:39.758061Z",
          "shell.execute_reply.started": "2024-07-18T08:59:39.758019Z"
        },
        "id": "bf105e8f-6be5-4494-9658-233761f1c4f4",
        "jupyter": {
          "outputs_hidden": true
        },
        "trusted": true
      },
      "outputs": [],
      "source": [
        "precision_score(predictions[\"Target\"], predictions[\"Predictions\"])"
      ],
      "id": "bf105e8f-6be5-4494-9658-233761f1c4f4"
    },
    {
      "cell_type": "code",
      "execution_count": null,
      "metadata": {
        "collapsed": true,
        "execution": {
          "iopub.status.busy": "2024-07-18T08:59:39.760156Z",
          "iopub.status.idle": "2024-07-18T08:59:39.760684Z",
          "shell.execute_reply": "2024-07-18T08:59:39.760440Z",
          "shell.execute_reply.started": "2024-07-18T08:59:39.760417Z"
        },
        "id": "eff25a20-375e-444a-b5d3-b558753fc817",
        "jupyter": {
          "outputs_hidden": true
        },
        "trusted": true
      },
      "outputs": [],
      "source": [
        "predictions[\"Target\"].value_counts() / predictions.shape[0]"
      ],
      "id": "eff25a20-375e-444a-b5d3-b558753fc817"
    },
    {
      "cell_type": "code",
      "execution_count": null,
      "metadata": {
        "collapsed": true,
        "execution": {
          "iopub.status.busy": "2024-07-18T08:59:39.762699Z",
          "iopub.status.idle": "2024-07-18T08:59:39.763270Z",
          "shell.execute_reply": "2024-07-18T08:59:39.762992Z",
          "shell.execute_reply.started": "2024-07-18T08:59:39.762969Z"
        },
        "id": "ed05ece5-f1f4-443a-b179-33c7e709ea4d",
        "jupyter": {
          "outputs_hidden": true
        },
        "trusted": true
      },
      "outputs": [],
      "source": [
        "horizons = [2,5,60,250,1000]\n",
        "new_predictors = []\n",
        "\n",
        "for horizon in horizons:\n",
        "    rolling_averages = nifty.rolling(horizon).mean()\n",
        "\n",
        "    ratio_column = f\"Close_Ratio_{horizon}\"\n",
        "    nifty[ratio_column] = nifty[\"Close\"] / rolling_averages[\"Close\"]\n",
        "\n",
        "    trend_column = f\"Trend_{horizon}\"\n",
        "    nifty[trend_column] = nifty.shift(1).rolling(horizon).sum()[\"Target\"]\n",
        "\n",
        "    new_predictors+= [ratio_column, trend_column]"
      ],
      "id": "ed05ece5-f1f4-443a-b179-33c7e709ea4d"
    },
    {
      "cell_type": "code",
      "execution_count": null,
      "metadata": {
        "collapsed": true,
        "execution": {
          "iopub.status.busy": "2024-07-18T08:59:39.765180Z",
          "iopub.status.idle": "2024-07-18T08:59:39.765551Z",
          "shell.execute_reply": "2024-07-18T08:59:39.765386Z",
          "shell.execute_reply.started": "2024-07-18T08:59:39.765371Z"
        },
        "id": "6c04ab2d-64ff-4f56-a206-605dcce30372",
        "jupyter": {
          "outputs_hidden": true
        },
        "trusted": true
      },
      "outputs": [],
      "source": [
        "nifty = nifty.dropna(subset=nifty.columns[nifty.columns != \"Tomorrow\"])"
      ],
      "id": "6c04ab2d-64ff-4f56-a206-605dcce30372"
    },
    {
      "cell_type": "code",
      "execution_count": null,
      "metadata": {
        "collapsed": true,
        "execution": {
          "iopub.status.busy": "2024-07-18T08:59:39.766694Z",
          "iopub.status.idle": "2024-07-18T08:59:39.767102Z",
          "shell.execute_reply": "2024-07-18T08:59:39.766915Z",
          "shell.execute_reply.started": "2024-07-18T08:59:39.766899Z"
        },
        "id": "fd7b2523-85a4-477d-975d-9cf64b1ff557",
        "jupyter": {
          "outputs_hidden": true
        },
        "trusted": true
      },
      "outputs": [],
      "source": [
        "nifty"
      ],
      "id": "fd7b2523-85a4-477d-975d-9cf64b1ff557"
    },
    {
      "cell_type": "code",
      "execution_count": null,
      "metadata": {
        "collapsed": true,
        "execution": {
          "iopub.status.busy": "2024-07-18T08:59:39.769209Z",
          "iopub.status.idle": "2024-07-18T08:59:39.769627Z",
          "shell.execute_reply": "2024-07-18T08:59:39.769429Z",
          "shell.execute_reply.started": "2024-07-18T08:59:39.769412Z"
        },
        "id": "283be581-dbe1-4f02-8851-ff1a027b4104",
        "jupyter": {
          "outputs_hidden": true
        },
        "trusted": true
      },
      "outputs": [],
      "source": [
        "model = RandomForestClassifier(n_estimators=200, min_samples_split=50, random_state=1)"
      ],
      "id": "283be581-dbe1-4f02-8851-ff1a027b4104"
    },
    {
      "cell_type": "code",
      "execution_count": null,
      "metadata": {
        "collapsed": true,
        "execution": {
          "iopub.status.busy": "2024-07-18T08:59:39.770902Z",
          "iopub.status.idle": "2024-07-18T08:59:39.771286Z",
          "shell.execute_reply": "2024-07-18T08:59:39.771118Z",
          "shell.execute_reply.started": "2024-07-18T08:59:39.771103Z"
        },
        "id": "a843303c-a247-4f6d-9505-cc711ca95afa",
        "jupyter": {
          "outputs_hidden": true
        },
        "trusted": true
      },
      "outputs": [],
      "source": [
        "def predict(train, test, predictors, model):\n",
        "    model.fit(train[predictors], train[\"Target\"])\n",
        "    preds = model.predict_proba(test[predictors])[:,1]\n",
        "    preds[preds >=.6] = 1\n",
        "    preds[preds <.6] = 0\n",
        "    preds = pd.Series(preds, index=test.index, name=\"Predictions\")\n",
        "    combined = pd.concat([test[\"Target\"], preds], axis=1)\n",
        "    return combined"
      ],
      "id": "a843303c-a247-4f6d-9505-cc711ca95afa"
    },
    {
      "cell_type": "code",
      "execution_count": null,
      "metadata": {
        "collapsed": true,
        "execution": {
          "iopub.status.busy": "2024-07-18T08:59:39.772662Z",
          "iopub.status.idle": "2024-07-18T08:59:39.773109Z",
          "shell.execute_reply": "2024-07-18T08:59:39.772905Z",
          "shell.execute_reply.started": "2024-07-18T08:59:39.772877Z"
        },
        "id": "fb820946-1275-4914-b6a8-355e96f315b6",
        "jupyter": {
          "outputs_hidden": true
        },
        "trusted": true
      },
      "outputs": [],
      "source": [
        "predictions = backtest(nifty, model, new_predictors)"
      ],
      "id": "fb820946-1275-4914-b6a8-355e96f315b6"
    },
    {
      "cell_type": "code",
      "execution_count": null,
      "metadata": {
        "collapsed": true,
        "execution": {
          "iopub.status.busy": "2024-07-18T08:59:39.774956Z",
          "iopub.status.idle": "2024-07-18T08:59:39.775371Z",
          "shell.execute_reply": "2024-07-18T08:59:39.775195Z",
          "shell.execute_reply.started": "2024-07-18T08:59:39.775178Z"
        },
        "id": "a73e1816-283a-47ac-af43-4550b80307ef",
        "jupyter": {
          "outputs_hidden": true
        },
        "trusted": true
      },
      "outputs": [],
      "source": [
        "predictions[\"Predictions\"].value_counts()"
      ],
      "id": "a73e1816-283a-47ac-af43-4550b80307ef"
    },
    {
      "cell_type": "code",
      "execution_count": null,
      "metadata": {
        "collapsed": true,
        "execution": {
          "iopub.status.busy": "2024-07-18T08:59:39.777289Z",
          "iopub.status.idle": "2024-07-18T08:59:39.777673Z",
          "shell.execute_reply": "2024-07-18T08:59:39.777500Z",
          "shell.execute_reply.started": "2024-07-18T08:59:39.777484Z"
        },
        "id": "14acc336-4991-4189-bb16-4a8bf53056e1",
        "jupyter": {
          "outputs_hidden": true
        },
        "trusted": true
      },
      "outputs": [],
      "source": [
        "precision_score(predictions[\"Target\"], predictions[\"Predictions\"])"
      ],
      "id": "14acc336-4991-4189-bb16-4a8bf53056e1"
    },
    {
      "cell_type": "code",
      "execution_count": null,
      "metadata": {
        "collapsed": true,
        "execution": {
          "iopub.status.busy": "2024-07-18T08:59:39.780054Z",
          "iopub.status.idle": "2024-07-18T08:59:39.780630Z",
          "shell.execute_reply": "2024-07-18T08:59:39.780343Z",
          "shell.execute_reply.started": "2024-07-18T08:59:39.780320Z"
        },
        "id": "21b3d365-2157-4229-a785-ae687da0f21f",
        "jupyter": {
          "outputs_hidden": true
        },
        "trusted": true
      },
      "outputs": [],
      "source": [
        "predictions[\"Target\"].value_counts() / predictions.shape[0]"
      ],
      "id": "21b3d365-2157-4229-a785-ae687da0f21f"
    },
    {
      "cell_type": "code",
      "execution_count": null,
      "metadata": {
        "collapsed": true,
        "execution": {
          "iopub.status.busy": "2024-07-18T08:59:39.783112Z",
          "iopub.status.idle": "2024-07-18T08:59:39.783657Z",
          "shell.execute_reply": "2024-07-18T08:59:39.783404Z",
          "shell.execute_reply.started": "2024-07-18T08:59:39.783380Z"
        },
        "id": "ef08fff5-0dd5-4d86-9d0d-8ce9f7443865",
        "jupyter": {
          "outputs_hidden": true
        },
        "trusted": true
      },
      "outputs": [],
      "source": [
        "predictions"
      ],
      "id": "ef08fff5-0dd5-4d86-9d0d-8ce9f7443865"
    },
    {
      "cell_type": "code",
      "execution_count": null,
      "metadata": {
        "collapsed": true,
        "id": "b2d35fd3-7038-4e69-bcbd-bde42c1f5e33",
        "jupyter": {
          "outputs_hidden": true
        }
      },
      "outputs": [],
      "source": [],
      "id": "b2d35fd3-7038-4e69-bcbd-bde42c1f5e33"
    }
  ],
  "metadata": {
    "colab": {
      "provenance": []
    },
    "kaggle": {
      "accelerator": "none",
      "dataSources": [],
      "dockerImageVersionId": 30746,
      "isGpuEnabled": false,
      "isInternetEnabled": true,
      "language": "python",
      "sourceType": "notebook"
    },
    "kernelspec": {
      "display_name": "Python 3",
      "language": "python",
      "name": "python3"
    },
    "language_info": {
      "codemirror_mode": {
        "name": "ipython",
        "version": 3
      },
      "file_extension": ".py",
      "mimetype": "text/x-python",
      "name": "python",
      "nbconvert_exporter": "python",
      "pygments_lexer": "ipython3",
      "version": "3.12.2"
    }
  },
  "nbformat": 4,
  "nbformat_minor": 5
}